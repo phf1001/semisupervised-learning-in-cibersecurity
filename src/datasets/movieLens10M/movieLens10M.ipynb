{
 "cells": [
  {
   "cell_type": "markdown",
   "metadata": {},
   "source": [
    "# MOVIE LENS 10M"
   ]
  },
  {
   "cell_type": "code",
   "execution_count": 85,
   "metadata": {},
   "outputs": [],
   "source": [
    "import pandas as pd\n",
    "import numpy as np"
   ]
  },
  {
   "cell_type": "code",
   "execution_count": 86,
   "metadata": {},
   "outputs": [],
   "source": [
    "def load_movielens():\n",
    "\n",
    "    return pd.read_csv(\n",
    "        './dataset/ratings.dat',\n",
    "        sep='::',\n",
    "        header=None,\n",
    "        names=['userId', 'movieId', 'rating', 'timestamp'])\n",
    "      \n",
    "\n",
    "def get_windows(n_windows, first_item, last_item):\n",
    "    \"\"\"\n",
    "    Returns the items partitions made.\n",
    "    Both first item and last item are included.\n",
    "\n",
    "    Returns:\n",
    "        List of tuples, where the tuples are \n",
    "        (first_item_window_INCLUDED, last_item_window_INCLUDED)\n",
    "    \"\"\"\n",
    "\n",
    "    n_items = last_item - first_item + 1\n",
    "    Q, q = divmod(n_items, n_windows)\n",
    "    index = first_item\n",
    "    windows = []\n",
    "\n",
    "    for j in range(n_windows):\n",
    "\n",
    "        if j < q: #Cambiado de su paper porque no sense el =\n",
    "          n_items_window = Q + 1\n",
    "\n",
    "        else:\n",
    "          n_items_window = Q\n",
    "\n",
    "        windows.append((index, index + n_items_window - 1))\n",
    "        index = index + n_items_window \n",
    "\n",
    "    return windows\n",
    "    \n",
    "\n",
    "def obtain_vectors(data, J=40):\n",
    "\n",
    "    n_users = len(set(data['userId']))\n",
    "    n_movies = 65133 #len(set(data['movieId']))\n",
    "\n",
    "    windows = get_windows(n_movies, J)\n",
    "\n",
    "    vectors = []\n",
    "\n",
    "    for i in range(n_users):\n",
    "\n",
    "        ratings_user = data.loc[data[\"userId\"] == 1]\n",
    "        n_ratings_user = len(ratings_user)\n",
    "\n",
    "        user_vector = []\n",
    "\n",
    "        for window in windows:\n",
    "\n",
    "            ratings_user_window = ratings_user.loc[(ratings_user.movieId  >= window[0]) & (ratings_user.movieId <= window[1])]\n",
    "            n_ratings_user_window = len(ratings_user_window)\n",
    "\n",
    "            #NRW\n",
    "            user_vector.append(n_ratings_user_window)\n",
    "\n",
    "            #NRWR\n",
    "            user_vector.append(n_ratings_user_window/n_ratings_user)\n",
    "\n",
    "        vectors.append(user_vector)\n",
    "\n",
    "    return vectors\n",
    "\n"
   ]
  },
  {
   "cell_type": "code",
   "execution_count": 87,
   "metadata": {},
   "outputs": [
    {
     "name": "stderr",
     "output_type": "stream",
     "text": [
      "C:\\Users\\patri\\AppData\\Local\\Temp\\ipykernel_14044\\3960003927.py:3: ParserWarning: Falling back to the 'python' engine because the 'c' engine does not support regex separators (separators > 1 char and different from '\\s+' are interpreted as regex); you can avoid this warning by specifying engine='python'.\n",
      "  return pd.read_csv(\n"
     ]
    },
    {
     "ename": "TypeError",
     "evalue": "get_windows() missing 1 required positional argument: 'last_item'",
     "output_type": "error",
     "traceback": [
      "\u001b[1;31m---------------------------------------------------------------------------\u001b[0m",
      "\u001b[1;31mTypeError\u001b[0m                                 Traceback (most recent call last)",
      "Cell \u001b[1;32mIn [87], line 1\u001b[0m\n\u001b[1;32m----> 1\u001b[0m obtain_vectors(load_movielens())\n",
      "Cell \u001b[1;32mIn [86], line 44\u001b[0m, in \u001b[0;36mobtain_vectors\u001b[1;34m(data, J)\u001b[0m\n\u001b[0;32m     41\u001b[0m n_users \u001b[39m=\u001b[39m \u001b[39mlen\u001b[39m(\u001b[39mset\u001b[39m(data[\u001b[39m'\u001b[39m\u001b[39muserId\u001b[39m\u001b[39m'\u001b[39m]))\n\u001b[0;32m     42\u001b[0m n_movies \u001b[39m=\u001b[39m \u001b[39m65133\u001b[39m \u001b[39m#len(set(data['movieId']))\u001b[39;00m\n\u001b[1;32m---> 44\u001b[0m windows \u001b[39m=\u001b[39m get_windows(n_movies, J)\n\u001b[0;32m     46\u001b[0m vectors \u001b[39m=\u001b[39m []\n\u001b[0;32m     48\u001b[0m \u001b[39mfor\u001b[39;00m i \u001b[39min\u001b[39;00m \u001b[39mrange\u001b[39m(n_users):\n",
      "\u001b[1;31mTypeError\u001b[0m: get_windows() missing 1 required positional argument: 'last_item'"
     ]
    }
   ],
   "source": [
    "obtain_vectors(load_movielens())"
   ]
  }
 ],
 "metadata": {
  "kernelspec": {
   "display_name": "Python 3.10.4",
   "language": "python",
   "name": "python3"
  },
  "language_info": {
   "codemirror_mode": {
    "name": "ipython",
    "version": 3
   },
   "file_extension": ".py",
   "mimetype": "text/x-python",
   "name": "python",
   "nbconvert_exporter": "python",
   "pygments_lexer": "ipython3",
   "version": "3.10.4"
  },
  "orig_nbformat": 4,
  "vscode": {
   "interpreter": {
    "hash": "d5061e2ebcf242305dcdb45d871ef5cd4ba433365f314bc2418d41c77ce076e8"
   }
  }
 },
 "nbformat": 4,
 "nbformat_minor": 2
}
