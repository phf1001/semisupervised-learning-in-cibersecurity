{
 "cells": [
  {
   "cell_type": "markdown",
   "metadata": {},
   "source": [
    "# MOVIE LENS 10M"
   ]
  },
  {
   "cell_type": "code",
   "execution_count": 92,
   "metadata": {},
   "outputs": [],
   "source": [
    "import pandas as pd\n",
    "import numpy as np\n",
    "import json"
   ]
  },
  {
   "cell_type": "code",
   "execution_count": 93,
   "metadata": {},
   "outputs": [],
   "source": [
    "def load_ratings():\n",
    "\n",
    "    return pd.read_csv(\n",
    "        './dataset/ratings.dat',\n",
    "        sep='::',\n",
    "        header=None,\n",
    "        names=['userId', 'movieId', 'rating', 'timestamp'])\n",
    "      \n",
    "def load_movies():\n",
    "\n",
    "    return pd.read_csv(\n",
    "        './dataset/movies.dat',\n",
    "        sep='::',\n",
    "        header=None,\n",
    "        names=['movieID', 'Title', 'Genre'])\n",
    "\n",
    "\n",
    "def get_movies_id_list():\n",
    "\n",
    "        movies = pd.read_csv(\n",
    "        './dataset/movies.dat',\n",
    "        sep='::',\n",
    "        header=None,\n",
    "        names=['movieID', 'Title', 'Genre'])\n",
    "\n",
    "        retorno = movies.values[:, 0]\n",
    "        return retorno\n",
    "\n",
    "\n",
    "def get_windows(n_items, n_windows=40):\n",
    "    \"\"\"\n",
    "    Returns the items partitions made.\n",
    "    Both first item and last item are included.\n",
    "\n",
    "    Returns:\n",
    "        List of tuples, where the tuples are \n",
    "        (first_item_window_INCLUDED, last_item_window_INCLUDED)\n",
    "    \"\"\"\n",
    "\n",
    "    Q, q = divmod(n_items, n_windows)\n",
    "    index = 0\n",
    "    windows = []\n",
    "\n",
    "    for j in range(n_windows):\n",
    "\n",
    "        if j < q: #Cambiado de su paper porque no sense el =\n",
    "          n_items_window = Q + 1\n",
    "\n",
    "        else:\n",
    "          n_items_window = Q\n",
    "\n",
    "        windows.append((index, index + n_items_window - 1))\n",
    "        index = index + n_items_window \n",
    "\n",
    "    return windows\n",
    "    \n",
    "\n",
    "def obtain_vectors(J=40):\n",
    "\n",
    "    data = load_ratings()\n",
    "\n",
    "    users_ids = list(set(data['userId']))\n",
    "    n_users = len(users_ids)\n",
    "    movies_ids = get_movies_id_list()\n",
    "    n_movies = len(movies_ids)\n",
    "\n",
    "    windows = get_windows(n_movies, J)\n",
    "    vectors = { **dict.fromkeys([i for i in users_ids], [])} \n",
    "\n",
    "    for user_id in users_ids:\n",
    "\n",
    "        ratings_user = data.loc[data[\"userId\"] == user_id].values\n",
    "        n_ratings_user = len(ratings_user)\n",
    "\n",
    "        user_vector = []\n",
    "\n",
    "        for window in windows:\n",
    "\n",
    "            movies_window = movies_ids[window[0] : window[1]]\n",
    "            ratings_user_window = [rating for rating in ratings_user if int(rating[1]) in movies_window]\n",
    "            n_ratings_user_window = len(ratings_user_window)\n",
    "\n",
    "            user_vector.append(n_ratings_user_window) #NRW\n",
    "            user_vector.append(n_ratings_user_window/n_ratings_user) #NRWR\n",
    "\n",
    "        vectors[user_id] = user_vector\n",
    "\n",
    "\n",
    "    with open('vectors-genuine-users-ML10M.json', 'w') as f:\n",
    "        json_dumps_str = json.dumps(vectors, indent=2)\n",
    "        print(json_dumps_str, file=f)\n",
    "        f.close()\n",
    "\n",
    "    return vectors"
   ]
  },
  {
   "cell_type": "code",
   "execution_count": 94,
   "metadata": {},
   "outputs": [
    {
     "name": "stdout",
     "output_type": "stream",
     "text": [
      "{1: [3, 0.13636363636363635, 13, 0.5909090909090909, 6, 0.2727272727272727, 0, 0.0, 0, 0.0, 0, 0.0, 0, 0.0, 0, 0.0, 0, 0.0, 0, 0.0, 0, 0.0, 0, 0.0, 0, 0.0, 0, 0.0, 0, 0.0, 0, 0.0, 0, 0.0, 0, 0.0, 0, 0.0, 0, 0.0, 0, 0.0, 0, 0.0, 0, 0.0, 0, 0.0, 0, 0.0, 0, 0.0, 0, 0.0, 0, 0.0, 0, 0.0, 0, 0.0, 0, 0.0, 0, 0.0, 0, 0.0, 0, 0.0, 0, 0.0, 0, 0.0, 0, 0.0, 0, 0.0, 0, 0.0, 0, 0.0], 2: [3, 0.15, 1, 0.05, 9, 0.45, 3, 0.15, 2, 0.1, 2, 0.1, 0, 0.0, 0, 0.0, 0, 0.0, 0, 0.0, 0, 0.0, 0, 0.0, 0, 0.0, 0, 0.0, 0, 0.0, 0, 0.0, 0, 0.0, 0, 0.0, 0, 0.0, 0, 0.0, 0, 0.0, 0, 0.0, 0, 0.0, 0, 0.0, 0, 0.0, 0, 0.0, 0, 0.0, 0, 0.0, 0, 0.0, 0, 0.0, 0, 0.0, 0, 0.0, 0, 0.0, 0, 0.0, 0, 0.0, 0, 0.0, 0, 0.0, 0, 0.0, 0, 0.0, 0, 0.0], 3: [3, 0.09090909090909091, 0, 0.0, 1, 0.030303030303030304, 0, 0.0, 5, 0.15151515151515152, 4, 0.12121212121212122, 1, 0.030303030303030304, 0, 0.0, 0, 0.0, 0, 0.0, 0, 0.0, 0, 0.0, 1, 0.030303030303030304, 1, 0.030303030303030304, 0, 0.0, 0, 0.0, 1, 0.030303030303030304, 1, 0.030303030303030304, 1, 0.030303030303030304, 1, 0.030303030303030304, 2, 0.06060606060606061, 1, 0.030303030303030304, 0, 0.0, 2, 0.06060606060606061, 1, 0.030303030303030304, 0, 0.0, 2, 0.06060606060606061, 0, 0.0, 0, 0.0, 2, 0.06060606060606061, 1, 0.030303030303030304, 0, 0.0, 1, 0.030303030303030304, 0, 0.0, 1, 0.030303030303030304, 0, 0.0, 0, 0.0, 0, 0.0, 0, 0.0, 0, 0.0], 4: [12, 0.3157894736842105, 18, 0.47368421052631576, 8, 0.21052631578947367, 0, 0.0, 0, 0.0, 0, 0.0, 0, 0.0, 0, 0.0, 0, 0.0, 0, 0.0, 0, 0.0, 0, 0.0, 0, 0.0, 0, 0.0, 0, 0.0, 0, 0.0, 0, 0.0, 0, 0.0, 0, 0.0, 0, 0.0, 0, 0.0, 0, 0.0, 0, 0.0, 0, 0.0, 0, 0.0, 0, 0.0, 0, 0.0, 0, 0.0, 0, 0.0, 0, 0.0, 0, 0.0, 0, 0.0, 0, 0.0, 0, 0.0, 0, 0.0, 0, 0.0, 0, 0.0, 0, 0.0, 0, 0.0, 0, 0.0], 5: [21, 0.2413793103448276, 20, 0.22988505747126436, 10, 0.11494252873563218, 13, 0.14942528735632185, 21, 0.2413793103448276, 1, 0.011494252873563218, 0, 0.0, 0, 0.0, 0, 0.0, 0, 0.0, 0, 0.0, 0, 0.0, 0, 0.0, 0, 0.0, 0, 0.0, 0, 0.0, 0, 0.0, 0, 0.0, 0, 0.0, 0, 0.0, 0, 0.0, 0, 0.0, 0, 0.0, 0, 0.0, 0, 0.0, 0, 0.0, 0, 0.0, 0, 0.0, 0, 0.0, 0, 0.0, 0, 0.0, 0, 0.0, 0, 0.0, 0, 0.0, 0, 0.0, 0, 0.0, 0, 0.0, 0, 0.0, 0, 0.0, 0, 0.0]}\n"
     ]
    },
    {
     "name": "stderr",
     "output_type": "stream",
     "text": [
      "C:\\Users\\patri\\AppData\\Local\\Temp\\ipykernel_12720\\2859184455.py:3: ParserWarning: Falling back to the 'python' engine because the 'c' engine does not support regex separators (separators > 1 char and different from '\\s+' are interpreted as regex); you can avoid this warning by specifying engine='python'.\n",
      "  return pd.read_csv(\n",
      "C:\\Users\\patri\\AppData\\Local\\Temp\\ipykernel_12720\\2859184455.py:20: ParserWarning: Falling back to the 'python' engine because the 'c' engine does not support regex separators (separators > 1 char and different from '\\s+' are interpreted as regex); you can avoid this warning by specifying engine='python'.\n",
      "  movies = pd.read_csv(\n"
     ]
    }
   ],
   "source": [
    "print(obtain_vectors())"
   ]
  }
 ],
 "metadata": {
  "kernelspec": {
   "display_name": "Python 3.10.4",
   "language": "python",
   "name": "python3"
  },
  "language_info": {
   "codemirror_mode": {
    "name": "ipython",
    "version": 3
   },
   "file_extension": ".py",
   "mimetype": "text/x-python",
   "name": "python",
   "nbconvert_exporter": "python",
   "pygments_lexer": "ipython3",
   "version": "3.10.4"
  },
  "orig_nbformat": 4,
  "vscode": {
   "interpreter": {
    "hash": "d5061e2ebcf242305dcdb45d871ef5cd4ba433365f314bc2418d41c77ce076e8"
   }
  }
 },
 "nbformat": 4,
 "nbformat_minor": 2
}
