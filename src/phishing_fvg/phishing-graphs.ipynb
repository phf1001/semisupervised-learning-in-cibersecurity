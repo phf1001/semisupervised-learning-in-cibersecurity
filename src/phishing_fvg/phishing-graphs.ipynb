{
 "cells": [
  {
   "attachments": {},
   "cell_type": "markdown",
   "metadata": {},
   "source": [
    "# **Phishing results**\n",
    "\n",
    "NOT! Real results.\n",
    "Dataset has to be generated (just 60 random samples are being used here). Just trying some graphs. Global variables to be changed."
   ]
  },
  {
   "cell_type": "code",
   "execution_count": 36,
   "metadata": {},
   "outputs": [],
   "source": [
    "import sys\n",
    "import os\n",
    "\n",
    "import pandas as pd\n",
    "import numpy as np\n",
    "import matplotlib.pyplot as plt\n",
    "\n",
    "from sklearn.metrics import recall_score, precision_score, auc, roc_curve, roc_auc_score, precision_recall_curve, accuracy_score\n",
    "from sklearn.model_selection import train_test_split, StratifiedKFold\n",
    "from sklearn.ensemble import RandomForestClassifier\n",
    "from sklearn.tree import DecisionTreeClassifier\n",
    "from sklearn.neighbors import KNeighborsClassifier\n",
    "from sklearn.naive_bayes import GaussianNB\n",
    "\n",
    "# Changing paths to src\n",
    "src_path = os.path.abspath(os.path.join(os.getcwd(), os.pardir))\n",
    "sys.path.append(src_path)\n",
    "from models.classifiers.DemocraticCoClassifier import DemocraticCo\n",
    "from models.classifiers.TriTrainingClassifier import TriTraining\n",
    "from models.classifiers.CoForestClassifier import CoForest"
   ]
  },
  {
   "cell_type": "code",
   "execution_count": 37,
   "metadata": {},
   "outputs": [],
   "source": [
    "# Random Forest\n",
    "random_forest_all = RandomForestClassifier(\n",
    "    6, max_features='log2', random_state=5)\n",
    "\n",
    "# Co Forest\n",
    "co_forest = CoForest(6, 0.75, max_features='log2', random_state=5)\n",
    "\n",
    "# Tri Training\n",
    "tri_training = TriTraining(DecisionTreeClassifier(\n",
    "), GaussianNB(), KNeighborsClassifier(), random_state=5)\n",
    "\n",
    "# Democratic Co\n",
    "democratic_co = DemocraticCo(\n",
    "    [DecisionTreeClassifier(), GaussianNB(), KNeighborsClassifier()], random_state=5)\n",
    "\n",
    "cls = [random_forest_all, democratic_co, co_forest, tri_training]\n",
    "cls_names = [\"RF\", \"DC\", \"CoF\", \"TT\"]\n"
   ]
  },
  {
   "cell_type": "code",
   "execution_count": 38,
   "metadata": {},
   "outputs": [],
   "source": [
    "df = pd.read_csv(filepath_or_buffer=\"./fv/results-1/mix.csv\")\n",
    "X = df[df.columns[:-1]].values\n",
    "y = df.tag.values.astype(int)\n",
    "\n",
    "rd = np.random.RandomState(5)\n",
    "skf = StratifiedKFold(n_splits=5, shuffle=True, random_state=rd)\n"
   ]
  },
  {
   "cell_type": "code",
   "execution_count": 39,
   "metadata": {},
   "outputs": [],
   "source": [
    "def get_comparation_graph(y_low_lim=0, curve='ROC'):\n",
    "\n",
    "    fig, axes = plt.subplots(1, 4, figsize=(12, 3), tight_layout=True)\n",
    "    colours = ['#82e0aa', '#3eccf6', '#de88f3', '#f39c12']\n",
    "    scores = []\n",
    "    recalls = []\n",
    "    precisions = []\n",
    "    AUCs = []\n",
    "\n",
    "    for train_index, test_index in skf.split(X, y):\n",
    "        \n",
    "        X_train, X_test = X[train_index], X[test_index]\n",
    "        y_train, y_test = y[train_index], y[test_index]\n",
    "        L_train, U_train, Ly_train, Uy_train = train_test_split(\n",
    "            X_train, y_train, test_size=0.8, random_state=rd, stratify=y_train)\n",
    "\n",
    "        scores_experiment = []\n",
    "        recalls_experiment = []\n",
    "        precisions_experiment = []\n",
    "        AUCs_experiment = []\n",
    "\n",
    "        for cl, cl_name in zip(cls, cls_names):\n",
    "\n",
    "            if cl_name == 'RF':\n",
    "                cl.fit(X_train, y_train)\n",
    "            else:\n",
    "                cl.fit(L_train, Ly_train, U_train)\n",
    "                \n",
    "            y_pred = cl.predict(X_test)\n",
    "            scores_experiment.append(accuracy_score(y_test, y_pred))\n",
    "            recalls_experiment.append(recall_score(y_test, y_pred))\n",
    "            precisions_experiment.append(precision_score(y_test, y_pred))\n",
    "\n",
    "            if curve == 'ROC':\n",
    "                fpr, tpr, _ = roc_curve(\n",
    "                    y_test, cl.predict_proba(X_test)[:, 1])\n",
    "                AUCs_experiment.append(auc(fpr, tpr))\n",
    "\n",
    "            else:\n",
    "                precision, recall, _ = precision_recall_curve(\n",
    "                    y_test, cl.predict_proba(X_test)[:, 1])\n",
    "                AUCs_experiment.append(auc(recall, precision))\n",
    "\n",
    "        scores.append(scores_experiment)\n",
    "        recalls.append(recalls_experiment)\n",
    "        precisions.append(precisions_experiment)\n",
    "        AUCs.append(AUCs_experiment)\n",
    "\n",
    "    axes[0].set_ylabel('Accuracy')\n",
    "    axes[0].set_ylim(y_low_lim, 1.0)\n",
    "    axes[0].bar(cls_names, np.mean(scores, axis=0), color=colours)\n",
    "\n",
    "    axes[1].set_ylabel('Recall')\n",
    "    axes[1].set_ylim(y_low_lim, 1.0)\n",
    "    axes[1].bar(cls_names, np.mean(recalls, axis=0), color=colours)\n",
    "\n",
    "    axes[2].set_ylabel('Precision')\n",
    "    axes[2].set_ylim(y_low_lim, 1.0)\n",
    "    axes[2].bar(cls_names, np.mean(precisions, axis=0), color=colours)\n",
    "\n",
    "    axes[3].set_ylabel('AUC')\n",
    "    axes[3].set_ylim(y_low_lim, 1.0)\n",
    "    axes[3].bar(cls_names, np.mean(AUCs, axis=0), color=colours)\n",
    "    plt.plot()\n"
   ]
  },
  {
   "cell_type": "code",
   "execution_count": 40,
   "metadata": {},
   "outputs": [
    {
     "data": {
      "image/png": "[encoded data removed]",
      "text/plain": [
       "<Figure size 1200x300 with 4 Axes>"
      ]
     },
     "metadata": {},
     "output_type": "display_data"
    }
   ],
   "source": [
    "get_comparation_graph(0, curve='PR')\n"
   ]
  }
 ],
 "metadata": {
  "kernelspec": {
   "display_name": "base",
   "language": "python",
   "name": "python3"
  },
  "language_info": {
   "codemirror_mode": {
    "name": "ipython",
    "version": 3
   },
   "file_extension": ".py",
   "mimetype": "text/x-python",
   "name": "python",
   "nbconvert_exporter": "python",
   "pygments_lexer": "ipython3",
   "version": "3.9.13"
  },
  "orig_nbformat": 4,
  "vscode": {
   "interpreter": {
    "hash": "3aa2267a3633e362ab4cdc36738c6d0a45a450435ef5c859c0f11f93c27ebe6a"
   }
  }
 },
 "nbformat": 4,
 "nbformat_minor": 2
}
