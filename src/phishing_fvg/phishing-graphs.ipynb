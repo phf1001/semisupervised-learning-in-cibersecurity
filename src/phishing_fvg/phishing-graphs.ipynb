{
 "cells": [
  {
   "cell_type": "code",
   "execution_count": null,
   "metadata": {},
   "outputs": [],
   "source": [
    "#!/usr/bin/env python\n",
    "# -*-coding:utf-8 -*-\n",
    "'''\n",
    "@File    :   phishing-graphs.ipynb\n",
    "@Time    :   2023/03/30 21:02:43\n",
    "@Author  :   Patricia Hernando Fernández \n",
    "@Version :   1.0\n",
    "@Contact :   phf1001@alu.ubu.es\n",
    "'''\n"
   ]
  },
  {
   "attachments": {},
   "cell_type": "markdown",
   "metadata": {},
   "source": [
    "# **PHISHING EXPERIMENTS**"
   ]
  },
  {
   "cell_type": "code",
   "execution_count": null,
   "metadata": {},
   "outputs": [],
   "source": [
    "import sys\n",
    "import os\n",
    "\n",
    "import pandas as pd\n",
    "import numpy as np\n",
    "import matplotlib.pyplot as plt\n",
    "\n",
    "from sklearn.metrics import (\n",
    "    recall_score,\n",
    "    precision_score,\n",
    "    auc,\n",
    "    roc_curve,\n",
    "    precision_recall_curve,\n",
    "    accuracy_score,\n",
    "    confusion_matrix,\n",
    "    f1_score,\n",
    ")\n",
    "from sklearn.model_selection import train_test_split, StratifiedKFold\n",
    "from sklearn.ensemble import RandomForestClassifier\n",
    "from sklearn.tree import DecisionTreeClassifier\n",
    "from sklearn.neighbors import KNeighborsClassifier\n",
    "from sklearn.naive_bayes import GaussianNB\n",
    "from sklearn import tree\n",
    "import seaborn as sns\n",
    "\n",
    "# Changing paths to src\n",
    "src_path = os.path.abspath(os.path.join(os.getcwd(), os.pardir))\n",
    "sys.path.append(src_path)\n",
    "from models.classifiers.DemocraticCoClassifier import DemocraticCo\n",
    "from models.classifiers.TriTrainingClassifier import TriTraining\n",
    "from models.classifiers.CoForestClassifier import CoForest"
   ]
  },
  {
   "cell_type": "code",
   "execution_count": null,
   "metadata": {},
   "outputs": [],
   "source": [
    "def get_clss(rd=5):\n",
    "    # Random Forest\n",
    "    random_forest_all = RandomForestClassifier(\n",
    "        6, max_features=\"log2\", random_state=rd\n",
    "    )\n",
    "\n",
    "    # Co Forest\n",
    "    co_forest_six = CoForest(6, 0.75, max_features=\"log2\", random_state=rd)\n",
    "    co_forest_twenty = CoForest(20, 0.75, max_features=\"log2\", random_state=rd)\n",
    "\n",
    "    # Tri Training\n",
    "    tri_training = TriTraining(\n",
    "        DecisionTreeClassifier(),\n",
    "        GaussianNB(),\n",
    "        KNeighborsClassifier(),\n",
    "        random_state=rd,\n",
    "    )\n",
    "\n",
    "    # Democratic Co\n",
    "    democratic_co = DemocraticCo(\n",
    "        [DecisionTreeClassifier(), GaussianNB(), KNeighborsClassifier()],\n",
    "        random_state=rd,\n",
    "    )\n",
    "\n",
    "    cls = [\n",
    "        random_forest_all,\n",
    "        democratic_co,\n",
    "        co_forest_six,\n",
    "        co_forest_twenty,\n",
    "        tri_training,\n",
    "    ]\n",
    "    \n",
    "    cls_names = [\"RF\", \"DC\", \"CoF_CLT\", \"CoF_PL\", \"TT\"]\n",
    "\n",
    "    return cls, cls_names"
   ]
  },
  {
   "cell_type": "code",
   "execution_count": null,
   "metadata": {},
   "outputs": [],
   "source": [
    "def get_first_last_feature(features):\n",
    "    if features == \"F1-F8\":\n",
    "        return 0, 8\n",
    "\n",
    "    if features == \"F9\":\n",
    "        return 8, 9\n",
    "\n",
    "    if features == \"F10-F15\":\n",
    "        return 9, 15\n",
    "\n",
    "    if features == \"F16\":\n",
    "        return 15, 16\n",
    "\n",
    "    if features == \"F17-F19\":\n",
    "        return 16, 19\n",
    "\n",
    "    return 0, 19"
   ]
  },
  {
   "cell_type": "code",
   "execution_count": null,
   "metadata": {},
   "outputs": [],
   "source": [
    "def get_folds(features=\"all\", rd=5):\n",
    "    df = pd.read_csv(filepath_or_buffer=\"./fv/results-4_fvg2/mix.csv\")\n",
    "    first_feature, last_feature = get_first_last_feature(features)\n",
    "    X = df[df.columns[first_feature:last_feature]].values\n",
    "    y = df.tag.values.astype(int)\n",
    "    skf = StratifiedKFold(n_splits=10, shuffle=True, random_state=rd)\n",
    "\n",
    "    return X, y, skf"
   ]
  },
  {
   "cell_type": "code",
   "execution_count": null,
   "metadata": {},
   "outputs": [],
   "source": [
    "def get_comparation_graph(cls, cls_names, X, y, skf, rd=5, y_low_lim=0, curve='ROC', used_features='F1-F19'):\n",
    "\n",
    "    fig, axes = plt.subplots(1, 5, figsize=(15, 3.5), tight_layout=True)\n",
    "    colours = [\"#82e0aa\", \"#3eccf6\", \"#de88f3\", \"#f39c12\", \"#ff6961\"]\n",
    "    scores = []\n",
    "    recalls = []\n",
    "    precisions = []\n",
    "    f1s = []\n",
    "    AUCs = []\n",
    "    y_true_total = []\n",
    "    y_preds_total = {cls_name: [] for cls_name in cls_names}\n",
    "\n",
    "    for train_index, test_index in skf.split(X, y):\n",
    "        X_train, X_test = X[train_index], X[test_index]\n",
    "        y_train, y_test = y[train_index], y[test_index]\n",
    "        L_train, U_train, Ly_train, Uy_train = train_test_split(\n",
    "            X_train, y_train, test_size=0.8, random_state=rd, stratify=y_train\n",
    "        )\n",
    "\n",
    "        scores_experiment = []\n",
    "        recalls_experiment = []\n",
    "        precisions_experiment = []\n",
    "        AUCs_experiment = []\n",
    "        f1s_experiment = []\n",
    "\n",
    "        for cl, cl_name in zip(cls, cls_names):\n",
    "            if cl_name == \"RF\":\n",
    "                cl.fit(X_train, y_train)\n",
    "            elif cl_name == \"CoF_CLT\":\n",
    "                cl.fit(\n",
    "                    L_train,\n",
    "                    Ly_train,\n",
    "                    U_train,\n",
    "                    w_init_criteria=\"confidence_L_all\",\n",
    "                )\n",
    "            elif cl_name == \"CoF_PL\":\n",
    "                cl.fit(\n",
    "                    L_train, Ly_train, U_train, w_init_criteria=\"percentage_L\"\n",
    "                )\n",
    "            else:\n",
    "                cl.fit(L_train, Ly_train, U_train)\n",
    "\n",
    "            y_pred = cl.predict(X_test)\n",
    "            scores_experiment.append(accuracy_score(y_test, y_pred))\n",
    "            recalls_experiment.append(recall_score(y_test, y_pred))\n",
    "            precisions_experiment.append(precision_score(y_test, y_pred))\n",
    "            f1s_experiment.append(f1_score(y_test, y_pred))\n",
    "            y_preds_total[cl_name] += list(y_pred)\n",
    "\n",
    "            if curve == \"ROC\":\n",
    "                fpr, tpr, _ = roc_curve(y_test, cl.predict_proba(X_test)[:, 1])\n",
    "                AUCs_experiment.append(auc(fpr, tpr))\n",
    "\n",
    "            else:\n",
    "                precision, recall, _ = precision_recall_curve(\n",
    "                    y_test, cl.predict_proba(X_test)[:, 1]\n",
    "                )\n",
    "                AUCs_experiment.append(auc(recall, precision))\n",
    "\n",
    "        scores.append(scores_experiment)\n",
    "        recalls.append(recalls_experiment)\n",
    "        precisions.append(precisions_experiment)\n",
    "        AUCs.append(AUCs_experiment)\n",
    "        f1s.append(f1s_experiment)\n",
    "        y_true_total += list(y_test)\n",
    "\n",
    "    axes[0].set_ylabel(\"Accuracy\")\n",
    "    axes[0].set_ylim(y_low_lim, 1.0)\n",
    "    axes[0].bar(cls_names, np.mean(scores, axis=0), color=colours)\n",
    "\n",
    "    axes[1].set_ylabel(\"Recall\")\n",
    "    axes[1].set_ylim(y_low_lim, 1.0)\n",
    "    axes[1].bar(cls_names, np.mean(recalls, axis=0), color=colours)\n",
    "\n",
    "    axes[2].set_ylabel(\"Precision\")\n",
    "    axes[2].set_ylim(y_low_lim, 1.0)\n",
    "    axes[2].bar(cls_names, np.mean(precisions, axis=0), color=colours)\n",
    "\n",
    "    axes[3].set_ylabel(\"F1\")\n",
    "    axes[3].set_ylim(y_low_lim, 1.0)\n",
    "    axes[3].bar(cls_names, np.mean(f1s, axis=0), color=colours)\n",
    "\n",
    "    axes[4].set_ylabel(\"AUC\")\n",
    "    axes[4].set_ylim(y_low_lim, 1.0)\n",
    "    axes[4].bar(cls_names, np.mean(AUCs, axis=0), color=colours)\n",
    "\n",
    "    for i in range(5):\n",
    "        axes[i].set_xticklabels(cls_names, rotation=45, ha=\"right\")\n",
    "\n",
    "    fig.suptitle(\"Resultados {}\".format(used_features))\n",
    "    plt.plot()\n",
    "\n",
    "    return y_true_total, y_preds_total"
   ]
  },
  {
   "cell_type": "code",
   "execution_count": null,
   "metadata": {},
   "outputs": [],
   "source": [
    "def plot_important_atributes(X, y):\n",
    "    cls = DecisionTreeClassifier(max_depth=5)\n",
    "    cls.fit(X, y)\n",
    "\n",
    "    plt.figure(figsize=(20,20))\n",
    "    tree.plot_tree(cls)\n",
    "    plt.savefig('tree_high_dpi', dpi=100)"
   ]
  },
  {
   "cell_type": "code",
   "execution_count": null,
   "metadata": {},
   "outputs": [],
   "source": [
    "def plot_confusion_matrix(y_true, y_pred, cls_name):\n",
    "\n",
    "    matrix = confusion_matrix(y_true, y_pred)\n",
    "    sorted_labels = [\"Legítimo\", \"Phishing\"]\n",
    "    plt.figure(figsize=(6.4,3))\n",
    "    sns.heatmap(matrix, annot=True, cmap=\"Blues\", fmt=\"g\", xticklabels=sorted_labels, yticklabels=sorted_labels)\n",
    "    plt.xlabel('Predicho')\n",
    "    plt.ylabel('Real')\n",
    "    plt.title('Matriz de confusión clasificador {}'.format(cls_name))\n",
    "    plt.show()"
   ]
  },
  {
   "cell_type": "code",
   "execution_count": null,
   "metadata": {},
   "outputs": [],
   "source": [
    "def run_all(used_features='all'):\n",
    "    clss, cls_names = get_clss()\n",
    "    X, y, skf = get_folds(used_features)\n",
    "    y_true_total, y_preds_total = get_comparation_graph(clss, cls_names, X, y, skf, curve='ROC', used_features=used_features)\n",
    "\n",
    "    for cls_name in cls_names:\n",
    "        plot_confusion_matrix(y_true_total, y_preds_total[cls_name], cls_name=cls_name)\n",
    "\n",
    "    plot_important_atributes(X, y)"
   ]
  },
  {
   "attachments": {},
   "cell_type": "markdown",
   "metadata": {},
   "source": [
    "### **EXPERIMENTS**"
   ]
  },
  {
   "cell_type": "code",
   "execution_count": null,
   "metadata": {},
   "outputs": [],
   "source": [
    "used_features = 'all'\n",
    "run_all(used_features)"
   ]
  },
  {
   "cell_type": "code",
   "execution_count": null,
   "metadata": {},
   "outputs": [],
   "source": [
    "used_features = 'F1-F8'\n",
    "run_all(used_features)"
   ]
  },
  {
   "cell_type": "code",
   "execution_count": null,
   "metadata": {},
   "outputs": [],
   "source": [
    "used_features = 'F9'\n",
    "run_all(used_features)"
   ]
  },
  {
   "cell_type": "code",
   "execution_count": null,
   "metadata": {},
   "outputs": [],
   "source": [
    "used_features = 'F10-F15'\n",
    "run_all(used_features)"
   ]
  },
  {
   "cell_type": "code",
   "execution_count": null,
   "metadata": {},
   "outputs": [],
   "source": [
    "used_features = 'F16'\n",
    "run_all(used_features)"
   ]
  },
  {
   "cell_type": "code",
   "execution_count": null,
   "metadata": {},
   "outputs": [],
   "source": [
    "used_features = 'F17-F19'\n",
    "run_all(used_features)"
   ]
  }
 ],
 "metadata": {
  "kernelspec": {
   "display_name": "base",
   "language": "python",
   "name": "python3"
  },
  "language_info": {
   "codemirror_mode": {
    "name": "ipython",
    "version": 3
   },
   "file_extension": ".py",
   "mimetype": "text/x-python",
   "name": "python",
   "nbconvert_exporter": "python",
   "pygments_lexer": "ipython3",
   "version": "3.9.13"
  },
  "orig_nbformat": 4,
  "vscode": {
   "interpreter": {
    "hash": "3aa2267a3633e362ab4cdc36738c6d0a45a450435ef5c859c0f11f93c27ebe6a"
   }
  }
 },
 "nbformat": 4,
 "nbformat_minor": 2
}
