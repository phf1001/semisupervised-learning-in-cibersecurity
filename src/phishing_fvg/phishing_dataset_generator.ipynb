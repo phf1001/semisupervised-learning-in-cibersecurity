{
 "cells": [
  {
   "cell_type": "code",
   "execution_count": null,
   "metadata": {},
   "outputs": [],
   "source": [
    "#!/usr/bin/env python\n",
    "# -*-coding:utf-8 -*-\n",
    "'''\n",
    "@File    :   phishing_dataset_generator.ipynb\n",
    "@Time    :   2023/04/28 21:02:17\n",
    "@Author  :   Patricia Hernando Fernández \n",
    "@Version :   5.0\n",
    "@Contact :   phf1001@alu.ubu.es\n",
    "'''\n"
   ]
  },
  {
   "attachments": {},
   "cell_type": "markdown",
   "metadata": {},
   "source": [
    "### **PHISHING VECTOR GENERATOR** 🐟"
   ]
  },
  {
   "cell_type": "code",
   "execution_count": null,
   "metadata": {},
   "outputs": [],
   "source": [
    "import requests\n",
    "import urllib.parse\n",
    "import pandas as pd\n",
    "import pickle"
   ]
  },
  {
   "cell_type": "code",
   "execution_count": null,
   "metadata": {},
   "outputs": [],
   "source": [
    "from phishing_vector_generator import PhishingFVG\n",
    "from phishing_utils import *\n",
    "from user_browsing import UserBrowsing"
   ]
  },
  {
   "attachments": {},
   "cell_type": "markdown",
   "metadata": {},
   "source": [
    "# **TESTS**\n",
    "\n",
    "**Probando el comportamiento de usar proxy, no usarlo o tener la cadena vacía.**"
   ]
  },
  {
   "cell_type": "code",
   "execution_count": null,
   "metadata": {},
   "outputs": [],
   "source": [
    "import unittest\n",
    "import os\n",
    "import sys\n",
    "import requests\n",
    "\n",
    "src_path = os.path.abspath(os.path.join(os.getcwd(), os.pardir))\n",
    "sys.path.append(src_path)\n",
    "\n",
    "\n",
    "class RealFV(unittest.TestCase):\n",
    "    def setUp(self):\n",
    "        # Tor proxy uploaded in file\n",
    "        self.ph_entity = PhishingFVG(\"https://ubuvirtual.ubu.es/\", None, get_proxy_from_file=True)\n",
    "\n",
    "        # No proxy\n",
    "        self.ph_entity_two = PhishingFVG(\"https://ubuvirtual.ubu.es/\", None, get_proxy_from_file=False)\n",
    "\n",
    "    def test_proxy_working(self):\n",
    "        ip_one = requests.get(\n",
    "            \"http://ipinfo.io/ip\", proxies=self.ph_entity.user.proxies\n",
    "        ).text\n",
    "        ip_two = requests.get(\"http://ipinfo.io/ip\").text\n",
    "        ip_three = requests.get(\n",
    "            \"http://ipinfo.io/ip\", proxies=self.ph_entity_two.user.proxies\n",
    "        ).text\n",
    "        self.assertTrue(ip_one != ip_two)\n",
    "        self.assertTrue(ip_one != ip_three)\n",
    "        self.assertTrue(ip_two == ip_three)\n",
    "\n",
    "\n",
    "if __name__ == \"__main__\":\n",
    "    unittest.main(argv=[\"first-arg-is-ignored\"], exit=False)\n"
   ]
  },
  {
   "attachments": {},
   "cell_type": "markdown",
   "metadata": {},
   "source": [
    "# **TF-IDF**"
   ]
  },
  {
   "cell_type": "code",
   "execution_count": null,
   "metadata": {},
   "outputs": [],
   "source": [
    "user = UserBrowsing()\n",
    "urls = get_csv_data(get_data_path() + os.sep + \"alexa_filtered.csv\")\n",
    "corpus = get_tfidf_corpus(urls, user.get_simple_user_header_agent(), user.proxies)"
   ]
  },
  {
   "cell_type": "code",
   "execution_count": null,
   "metadata": {},
   "outputs": [],
   "source": [
    "tfidf = get_tfidf(corpus)    \n",
    "with open(\"tfidftocho.pkl\", \"wb\") as f:\n",
    "    pickle.dump(tfidf, f)"
   ]
  },
  {
   "cell_type": "code",
   "execution_count": null,
   "metadata": {},
   "outputs": [],
   "source": [
    "tfidf_pickle_in = open(\"tfidf-full-alexa.pkl\",\"rb\")\n",
    "tfidf = pickle.load(tfidf_pickle_in)\n",
    "print(tfidf)"
   ]
  },
  {
   "attachments": {},
   "cell_type": "markdown",
   "metadata": {},
   "source": [
    "# **GENERATION OF VECTORS**"
   ]
  },
  {
   "attachments": {},
   "cell_type": "markdown",
   "metadata": {},
   "source": [
    "**Tor proxy used**"
   ]
  },
  {
   "cell_type": "code",
   "execution_count": null,
   "metadata": {},
   "outputs": [],
   "source": [
    "reales = [\"https://microsoft.com\"]\n",
    "fvs_real = []\n",
    "\n",
    "for real in reales:\n",
    "    try:\n",
    "        ph_entity = PhishingFVG(real, tfidf)\n",
    "        ph_entity.set_feature_vector()\n",
    "        fvs_real.append(np.append(ph_entity.fv, [0]))\n",
    "        print(ph_entity.fv)\n",
    "        print(ph_entity.extra_information)\n",
    "\n",
    "    except:\n",
    "        print(f\"Error en {real}\")\n"
   ]
  },
  {
   "attachments": {},
   "cell_type": "markdown",
   "metadata": {},
   "source": [
    "**No proxy used**"
   ]
  },
  {
   "cell_type": "code",
   "execution_count": null,
   "metadata": {},
   "outputs": [],
   "source": [
    "reales = [\"https://microsoft.com\"]\n",
    "fvs_real = []\n",
    "\n",
    "for real in reales:\n",
    "    try:\n",
    "        ph_entity = PhishingFVG(real, tfidf, get_proxy_from_file=False)\n",
    "        ph_entity.set_feature_vector()\n",
    "        fvs_real.append(np.append(ph_entity.fv, [0]))\n",
    "        print(ph_entity.fv)\n",
    "        print(ph_entity.extra_information)\n",
    "        print(ph_entity.extra_information)\n",
    "\n",
    "    except:\n",
    "        print(f\"Error en {real}\")\n"
   ]
  },
  {
   "attachments": {},
   "cell_type": "markdown",
   "metadata": {},
   "source": [
    "## **REALS -> CSV y Pandas**"
   ]
  },
  {
   "cell_type": "code",
   "execution_count": null,
   "metadata": {},
   "outputs": [],
   "source": [
    "reales = get_payment_gateways().union(get_banking_sites()) #get_alexa_sites()\n",
    "fvs_real = []\n",
    "df = pd.DataFrame(columns=[\"url\", \"fv\", \"tag\"])\n",
    "\n",
    "output_file = get_fv_path() + os.path.sep + 'genuine_bank_pd.csv'\n",
    "output_file_2 = get_fv_path() + os.path.sep + 'genuine_bank_csv.csv'\n",
    "\n",
    "for real in reales:\n",
    "\n",
    "    try:\n",
    "        ph_entity = PhishingFVG(real, tfidf)\n",
    "        ph_entity.set_feature_vector()\n",
    "        fvs_real.append(np.append(ph_entity.fv, [0]))\n",
    "        df.loc[len(df.index)] = [real, list(ph_entity.fv), 0]\n",
    "\n",
    "        with open(output_file, mode='w') as f:\n",
    "            df.to_csv(f, sep=\";\", index=False)\n",
    "        f.close()\n",
    "\n",
    "        with open(output_file_2, mode=\"w\") as f2:\n",
    "            writer = csv.writer(f2, delimiter=\",\", quotechar='\"', quoting=csv.QUOTE_MINIMAL)\n",
    "            writer.writerow([f\"f{i}\" for i in range(1, 20)] + [\"tag\"])\n",
    "\n",
    "            for url in fvs_real:\n",
    "                writer.writerow(url)\n",
    "\n",
    "        f2.close()\n",
    "\n",
    "    except:\n",
    "        print(f\"Error en {real}\")\n"
   ]
  },
  {
   "attachments": {},
   "cell_type": "markdown",
   "metadata": {},
   "source": [
    "## **PHISHING -> FV y Pandas**"
   ]
  },
  {
   "cell_type": "code",
   "execution_count": null,
   "metadata": {},
   "outputs": [],
   "source": [
    "phishings = get_phish_tank_urls_csv(10000000).union(get_open_fish_urls())"
   ]
  },
  {
   "cell_type": "code",
   "execution_count": null,
   "metadata": {},
   "outputs": [],
   "source": [
    "df = pd.DataFrame(columns=[\"url\", \"fv\", \"tag\"])\n",
    "fvs_phishing = []\n",
    "output_file = get_fv_path() + os.path.sep + 'phishing_pd.csv'\n",
    "output_file_2 = get_fv_path() + os.path.sep + 'phishing_pd_2.csv'\n",
    "\n",
    "for phishing in phishings:\n",
    "    try:\n",
    "        ph_entity = PhishingFVG(phishing, tfidf)\n",
    "        ph_entity.set_feature_vector()\n",
    "        fvs_phishing.append(np.append(ph_entity.fv, [1]))\n",
    "        df.loc[len(df.index)] = [phishing, list(ph_entity.fv), 1]\n",
    "\n",
    "        with open(output_file, mode='w') as f:\n",
    "            df.to_csv(f, sep=\";\", index=False)\n",
    "        f.close()\n",
    "\n",
    "        with open(output_file_2, mode=\"w\") as f2:\n",
    "            writer = csv.writer(f2, delimiter=\",\", quotechar='\"', quoting=csv.QUOTE_MINIMAL)\n",
    "            writer.writerow([f\"f{i}\" for i in range(1, 20)] + [\"tag\"])\n",
    "\n",
    "            for url in fvs_phishing:\n",
    "                writer.writerow(url)\n",
    "\n",
    "        f2.close()\n",
    "\n",
    "    except:  # (ConnectionError, requests.exceptions.SSLError, requests.exceptions.ConnectTimeOut):\n",
    "        print(phishing)"
   ]
  }
 ],
 "metadata": {
  "kernelspec": {
   "display_name": "base",
   "language": "python",
   "name": "python3"
  },
  "language_info": {
   "codemirror_mode": {
    "name": "ipython",
    "version": 3
   },
   "file_extension": ".py",
   "mimetype": "text/x-python",
   "name": "python",
   "nbconvert_exporter": "python",
   "pygments_lexer": "ipython3",
   "version": "3.9.13"
  },
  "orig_nbformat": 4,
  "vscode": {
   "interpreter": {
    "hash": "3aa2267a3633e362ab4cdc36738c6d0a45a450435ef5c859c0f11f93c27ebe6a"
   }
  }
 },
 "nbformat": 4,
 "nbformat_minor": 2
}
