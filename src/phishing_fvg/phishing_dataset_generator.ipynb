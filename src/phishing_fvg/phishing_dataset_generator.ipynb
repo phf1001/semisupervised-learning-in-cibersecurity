{
 "cells": [
  {
   "attachments": {},
   "cell_type": "markdown",
   "metadata": {},
   "source": [
    "### **PHISHING VECTOR GENERATOR** 🐟"
   ]
  },
  {
   "cell_type": "code",
   "execution_count": 5,
   "metadata": {},
   "outputs": [],
   "source": [
    "from phishing_vector_generator import PHISH_FVG\n",
    "from phishing_utils import *\n",
    "from user_browsing import user_browsing"
   ]
  },
  {
   "attachments": {},
   "cell_type": "markdown",
   "metadata": {},
   "source": [
    "# **TESTS**\n",
    "\n",
    "**Probando el comportamiento de usar proxy, no usarlo o tener la cadena vacía.**"
   ]
  },
  {
   "cell_type": "code",
   "execution_count": 6,
   "metadata": {},
   "outputs": [
    {
     "name": "stderr",
     "output_type": "stream",
     "text": [
      "E\n",
      "======================================================================\n",
      "ERROR: test_proxy_working (__main__.RealFV)\n",
      "----------------------------------------------------------------------\n",
      "Traceback (most recent call last):\n",
      "  File \"/home/patripata/anaconda3/lib/python3.9/site-packages/socks.py\", line 787, in connect\n",
      "    super(socksocket, self).connect(proxy_addr)\n",
      "ConnectionRefusedError: [Errno 111] Connection refused\n",
      "\n",
      "During handling of the above exception, another exception occurred:\n",
      "\n",
      "Traceback (most recent call last):\n",
      "  File \"/home/patripata/anaconda3/lib/python3.9/site-packages/urllib3/contrib/socks.py\", line 96, in _new_conn\n",
      "    conn = socks.create_connection(\n",
      "  File \"/home/patripata/anaconda3/lib/python3.9/site-packages/socks.py\", line 209, in create_connection\n",
      "    raise err\n",
      "  File \"/home/patripata/anaconda3/lib/python3.9/site-packages/socks.py\", line 199, in create_connection\n",
      "    sock.connect((remote_host, remote_port))\n",
      "  File \"/home/patripata/anaconda3/lib/python3.9/site-packages/socks.py\", line 47, in wrapper\n",
      "    return function(*args, **kwargs)\n",
      "  File \"/home/patripata/anaconda3/lib/python3.9/site-packages/socks.py\", line 800, in connect\n",
      "    raise ProxyConnectionError(msg, error)\n",
      "socks.ProxyConnectionError: Error connecting to SOCKS5 proxy 127.0.0.1:9052: [Errno 111] Connection refused\n",
      "\n",
      "During handling of the above exception, another exception occurred:\n",
      "\n",
      "Traceback (most recent call last):\n",
      "  File \"/home/patripata/anaconda3/lib/python3.9/site-packages/urllib3/connectionpool.py\", line 703, in urlopen\n",
      "    httplib_response = self._make_request(\n",
      "  File \"/home/patripata/anaconda3/lib/python3.9/site-packages/urllib3/connectionpool.py\", line 398, in _make_request\n",
      "    conn.request(method, url, **httplib_request_kw)\n",
      "  File \"/home/patripata/anaconda3/lib/python3.9/site-packages/urllib3/connection.py\", line 239, in request\n",
      "    super(HTTPConnection, self).request(method, url, body=body, headers=headers)\n",
      "  File \"/home/patripata/anaconda3/lib/python3.9/http/client.py\", line 1285, in request\n",
      "    self._send_request(method, url, body, headers, encode_chunked)\n",
      "  File \"/home/patripata/anaconda3/lib/python3.9/http/client.py\", line 1331, in _send_request\n",
      "    self.endheaders(body, encode_chunked=encode_chunked)\n",
      "  File \"/home/patripata/anaconda3/lib/python3.9/http/client.py\", line 1280, in endheaders\n",
      "    self._send_output(message_body, encode_chunked=encode_chunked)\n",
      "  File \"/home/patripata/anaconda3/lib/python3.9/http/client.py\", line 1040, in _send_output\n",
      "    self.send(msg)\n",
      "  File \"/home/patripata/anaconda3/lib/python3.9/http/client.py\", line 980, in send\n",
      "    self.connect()\n",
      "  File \"/home/patripata/anaconda3/lib/python3.9/site-packages/urllib3/connection.py\", line 205, in connect\n",
      "    conn = self._new_conn()\n",
      "  File \"/home/patripata/anaconda3/lib/python3.9/site-packages/urllib3/contrib/socks.py\", line 127, in _new_conn\n",
      "    raise NewConnectionError(\n",
      "urllib3.exceptions.NewConnectionError: <urllib3.contrib.socks.SOCKSConnection object at 0x7fd2be369040>: Failed to establish a new connection: [Errno 111] Connection refused\n",
      "\n",
      "During handling of the above exception, another exception occurred:\n",
      "\n",
      "Traceback (most recent call last):\n",
      "  File \"/home/patripata/anaconda3/lib/python3.9/site-packages/requests/adapters.py\", line 489, in send\n",
      "    resp = conn.urlopen(\n",
      "  File \"/home/patripata/anaconda3/lib/python3.9/site-packages/urllib3/connectionpool.py\", line 787, in urlopen\n",
      "    retries = retries.increment(\n",
      "  File \"/home/patripata/anaconda3/lib/python3.9/site-packages/urllib3/util/retry.py\", line 592, in increment\n",
      "    raise MaxRetryError(_pool, url, error or ResponseError(cause))\n",
      "urllib3.exceptions.MaxRetryError: SOCKSHTTPConnectionPool(host='ipinfo.io', port=80): Max retries exceeded with url: /ip (Caused by NewConnectionError('<urllib3.contrib.socks.SOCKSConnection object at 0x7fd2be369040>: Failed to establish a new connection: [Errno 111] Connection refused'))\n",
      "\n",
      "During handling of the above exception, another exception occurred:\n",
      "\n",
      "Traceback (most recent call last):\n",
      "  File \"/tmp/ipykernel_27326/3277208392.py\", line 19, in test_proxy_working\n",
      "    ip_one = requests.get(\n",
      "  File \"/home/patripata/anaconda3/lib/python3.9/site-packages/requests/api.py\", line 73, in get\n",
      "    return request(\"get\", url, params=params, **kwargs)\n",
      "  File \"/home/patripata/anaconda3/lib/python3.9/site-packages/requests/api.py\", line 59, in request\n",
      "    return session.request(method=method, url=url, **kwargs)\n",
      "  File \"/home/patripata/anaconda3/lib/python3.9/site-packages/requests/sessions.py\", line 587, in request\n",
      "    resp = self.send(prep, **send_kwargs)\n",
      "  File \"/home/patripata/anaconda3/lib/python3.9/site-packages/requests/sessions.py\", line 701, in send\n",
      "    r = adapter.send(request, **kwargs)\n",
      "  File \"/home/patripata/anaconda3/lib/python3.9/site-packages/requests/adapters.py\", line 565, in send\n",
      "    raise ConnectionError(e, request=request)\n",
      "requests.exceptions.ConnectionError: SOCKSHTTPConnectionPool(host='ipinfo.io', port=80): Max retries exceeded with url: /ip (Caused by NewConnectionError('<urllib3.contrib.socks.SOCKSConnection object at 0x7fd2be369040>: Failed to establish a new connection: [Errno 111] Connection refused'))\n",
      "\n",
      "----------------------------------------------------------------------\n",
      "Ran 1 test in 0.695s\n",
      "\n",
      "FAILED (errors=1)\n"
     ]
    }
   ],
   "source": [
    "import unittest\n",
    "import os\n",
    "import sys\n",
    "import requests\n",
    "\n",
    "src_path = os.path.abspath(os.path.join(os.getcwd(), os.pardir))\n",
    "sys.path.append(src_path)\n",
    "\n",
    "\n",
    "class RealFV(unittest.TestCase):\n",
    "    def setUp(self):\n",
    "        # Tor proxy uploaded in file\n",
    "        self.ph_entity = PHISH_FVG(\"https://ubuvirtual.ubu.es/\", None, get_proxy_from_file=True)\n",
    "\n",
    "        # No proxy\n",
    "        self.ph_entity_two = PHISH_FVG(\"https://ubuvirtual.ubu.es/\", None, get_proxy_from_file=False)\n",
    "\n",
    "    def test_proxy_working(self):\n",
    "        ip_one = requests.get(\n",
    "            \"http://ipinfo.io/ip\", proxies=self.ph_entity.user.proxies\n",
    "        ).text\n",
    "        ip_two = requests.get(\"http://ipinfo.io/ip\").text\n",
    "        ip_three = requests.get(\n",
    "            \"http://ipinfo.io/ip\", proxies=self.ph_entity_two.user.proxies\n",
    "        ).text\n",
    "        self.assertTrue(ip_one != ip_two)\n",
    "        self.assertTrue(ip_one != ip_three)\n",
    "        self.assertTrue(ip_two == ip_three)\n",
    "\n",
    "\n",
    "if __name__ == \"__main__\":\n",
    "    unittest.main(argv=[\"first-arg-is-ignored\"], exit=False)\n"
   ]
  },
  {
   "attachments": {},
   "cell_type": "markdown",
   "metadata": {},
   "source": [
    "# **TF-IDF**"
   ]
  },
  {
   "cell_type": "code",
   "execution_count": 7,
   "metadata": {},
   "outputs": [
    {
     "name": "stderr",
     "output_type": "stream",
     "text": [
      "/home/patripata/anaconda3/lib/python3.9/site-packages/bs4/builder/__init__.py:545: XMLParsedAsHTMLWarning: It looks like you're parsing an XML document using an HTML parser. If this really is an HTML document (maybe it's XHTML?), you can ignore or filter this warning. If it's XML, you should know that using an XML parser will be more reliable. To parse this document as XML, make sure you have the lxml package installed, and pass the keyword argument `features=\"xml\"` into the BeautifulSoup constructor.\n",
      "  warnings.warn(\n"
     ]
    }
   ],
   "source": [
    "# user = user_browsing()\n",
    "# urls = get_csv_data(get_data_path() + os.sep + \"alexa_filtered.csv\")[:3]\n",
    "# corpus = get_tfidf_corpus(urls, user.get_simple_user_header_agent(), user.proxies)\n",
    "# tfidf = get_tfidf(corpus)\n",
    "\n",
    "\n",
    "user = user_browsing()\n",
    "urls = get_csv_data(get_data_path() + os.sep + \"alexa_filtered.csv\")\n",
    "corpus = get_tfidf_corpus(urls, user.get_simple_user_header_agent(), user.proxies)\n"
   ]
  },
  {
   "cell_type": "code",
   "execution_count": 14,
   "metadata": {},
   "outputs": [],
   "source": [
    "import pickle\n",
    "\n",
    "tfidf = get_tfidf(corpus)    \n",
    "with open(\"tfidftocho.pkl\", \"wb\") as f:\n",
    "    pickle.dump(tfidf, f)"
   ]
  },
  {
   "attachments": {},
   "cell_type": "markdown",
   "metadata": {},
   "source": [
    "# **GENERATION OF VECTORS**"
   ]
  },
  {
   "attachments": {},
   "cell_type": "markdown",
   "metadata": {},
   "source": [
    "**Tor proxy used**"
   ]
  },
  {
   "cell_type": "code",
   "execution_count": 9,
   "metadata": {},
   "outputs": [],
   "source": [
    "# reales = [\"https://www.naturaselection.com/\"]\n",
    "# fvs_real = []\n",
    "\n",
    "# for real in reales:\n",
    "#     try:\n",
    "#         ph_entity = PHISH_FVG(real, tfidf)\n",
    "#         ph_entity.set_feature_vector()\n",
    "#         fvs_real.append(np.append(ph_entity.fv, [0]))\n",
    "#         print(ph_entity.fv)\n",
    "#         print(ph_entity.extra_information)\n",
    "\n",
    "#     except:\n",
    "#         print(f\"Error en {real}\")\n"
   ]
  },
  {
   "attachments": {},
   "cell_type": "markdown",
   "metadata": {},
   "source": [
    "**No proxy used**"
   ]
  },
  {
   "cell_type": "code",
   "execution_count": 10,
   "metadata": {},
   "outputs": [],
   "source": [
    "# reales = [\"https://www.naturaselection.com/\"]\n",
    "# fvs_real = []\n",
    "\n",
    "# for real in reales:\n",
    "#     try:\n",
    "#         ph_entity = PHISH_FVG(real, tfidf, get_proxy_from_file=False)\n",
    "#         ph_entity.set_feature_vector()\n",
    "#         fvs_real.append(np.append(ph_entity.fv, [0]))\n",
    "#         print(ph_entity.fv)\n",
    "#         print(ph_entity.extra_information)\n",
    "\n",
    "#     except:\n",
    "#         print(f\"Error en {real}\")\n"
   ]
  },
  {
   "attachments": {},
   "cell_type": "markdown",
   "metadata": {},
   "source": [
    "## **REALS**"
   ]
  },
  {
   "cell_type": "code",
   "execution_count": 11,
   "metadata": {},
   "outputs": [],
   "source": [
    "# reales = get_alexa_sites()\n",
    "# fvs_real = []\n",
    "\n",
    "# for real in reales:\n",
    "\n",
    "#     try:\n",
    "#         ph_entity = PHISH_FVG(real, tfidf)\n",
    "#         ph_entity.set_feature_vector()\n",
    "#         fvs_real.append(np.append(ph_entity.fv, [0]))\n",
    "\n",
    "#     except:\n",
    "#         print(f\"Error en {real}\")\n",
    "\n",
    "# output_file = get_fv_path() + os.path.sep + 'genuine_fv.csv'\n",
    "\n",
    "# with open(output_file, mode='w') as f:\n",
    "\n",
    "#     writer = csv.writer(f, delimiter=',', quotechar='\"',\n",
    "#                         quoting=csv.QUOTE_MINIMAL)\n",
    "#     writer.writerow([f\"f{i}\" for i in range(1,20)] + ['tag'])\n",
    "\n",
    "#     for url in fvs_real:\n",
    "#         writer.writerow(url)\n",
    "\n",
    "# f.close()\n"
   ]
  },
  {
   "attachments": {},
   "cell_type": "markdown",
   "metadata": {},
   "source": [
    "## **PHISHING**"
   ]
  },
  {
   "cell_type": "code",
   "execution_count": 12,
   "metadata": {},
   "outputs": [],
   "source": [
    "# phishings = get_phish_tank_urls_csv(10000000).union(get_open_fish_urls())\n"
   ]
  },
  {
   "cell_type": "code",
   "execution_count": 13,
   "metadata": {},
   "outputs": [],
   "source": [
    "# fvs_phishing = []\n",
    "\n",
    "# for phishing in phishings:\n",
    "#     try:\n",
    "#         ph_entity = PHISH_FVG(phishing, tfidf)\n",
    "#         ph_entity.set_feature_vector()\n",
    "#         fvs_phishing.append(np.append(ph_entity.fv, [1]))\n",
    "\n",
    "#         if len(fvs_phishing) == 1100:\n",
    "#             break\n",
    "\n",
    "#     except:  # (ConnectionError, requests.exceptions.SSLError, requests.exceptions.ConnectTimeOut):\n",
    "#         print(phishing)\n",
    "\n",
    "# output_file = get_fv_path() + os.path.sep + \"phishing_fv.csv\"\n",
    "\n",
    "# with open(output_file, mode=\"w\") as f:\n",
    "#     writer = csv.writer(f, delimiter=\",\", quotechar='\"', quoting=csv.QUOTE_MINIMAL)\n",
    "#     writer.writerow([f\"f{i}\" for i in range(1, 20)] + [\"tag\"])\n",
    "\n",
    "#     for url in fvs_phishing:\n",
    "#         writer.writerow(url)\n",
    "\n",
    "# f.close()\n"
   ]
  }
 ],
 "metadata": {
  "kernelspec": {
   "display_name": "base",
   "language": "python",
   "name": "python3"
  },
  "language_info": {
   "codemirror_mode": {
    "name": "ipython",
    "version": 3
   },
   "file_extension": ".py",
   "mimetype": "text/x-python",
   "name": "python",
   "nbconvert_exporter": "python",
   "pygments_lexer": "ipython3",
   "version": "3.9.13"
  },
  "orig_nbformat": 4,
  "vscode": {
   "interpreter": {
    "hash": "3aa2267a3633e362ab4cdc36738c6d0a45a450435ef5c859c0f11f93c27ebe6a"
   }
  }
 },
 "nbformat": 4,
 "nbformat_minor": 2
}
