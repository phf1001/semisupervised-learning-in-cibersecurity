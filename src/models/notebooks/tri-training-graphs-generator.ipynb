{
 "cells": [
  {
   "attachments": {},
   "cell_type": "markdown",
   "metadata": {},
   "source": [
    "# 📈 **TRI-TRAINING: GRAPHS** "
   ]
  },
  {
   "cell_type": "code",
   "execution_count": 33,
   "metadata": {},
   "outputs": [],
   "source": [
    "from sklearn.datasets import load_iris, load_digits, load_wine, load_breast_cancer\n",
    "from sklearn.tree import DecisionTreeClassifier\n",
    "from sklearn.model_selection import train_test_split, KFold, StratifiedKFold\n",
    "from sklearn.linear_model import LinearRegression\n",
    "import numpy as np\n",
    "import numbers\n",
    "import matplotlib.pyplot as plt\n",
    "import pandas as pd\n",
    "from copy import deepcopy\n",
    "import csv\n",
    "from itertools import cycle\n",
    "import time\n",
    "import os\n",
    "import sys\n",
    "from sklearn.metrics import recall_score, precision_score, auc, roc_curve, roc_auc_score, precision_recall_curve\n",
    "from sklearn.model_selection import train_test_split\n",
    "from sklearn.ensemble import RandomForestClassifier\n",
    "from sklearn.tree import DecisionTreeClassifier\n",
    "from sklearn.neighbors import KNeighborsClassifier\n",
    "from sklearn.naive_bayes import GaussianNB\n",
    "\n",
    "src_path = os.path.abspath(os.path.join(os.getcwd(), os.pardir))\n",
    "sys.path.append(src_path)\n",
    "from classifiers.TriTrainingClassifier import TriTraining\n",
    "from notebooks.graphs_utils import *"
   ]
  },
  {
   "attachments": {},
   "cell_type": "markdown",
   "metadata": {},
   "source": [
    "# **CLASS**"
   ]
  },
  {
   "attachments": {},
   "cell_type": "markdown",
   "metadata": {},
   "source": [
    "Fit method needs to be overwritten since graphs are generated, so inheritance is used."
   ]
  },
  {
   "cell_type": "code",
   "execution_count": 34,
   "metadata": {},
   "outputs": [],
   "source": [
    "\n",
    "import numpy as np\n",
    "import numbers\n",
    "from math import floor, ceil\n",
    "\n",
    "class TriTraining_graphs(TriTraining):  \n",
    "\n",
    "    def fit(self, L, y, U):\n",
    "        \"\"\"\n",
    "        Trains the tri-training ensemble using Zhi-Hua Zhou\n",
    "        Algorithm. Generates graphs to show how score\n",
    "        evolves during training.\n",
    "\n",
    "        Parameters\n",
    "        ----------\n",
    "        L: np.array\n",
    "            Labeled data used for training\n",
    "        y: np.array\n",
    "            Labeled data tags used for training\n",
    "        U: np.array\n",
    "            Unlabeled data used for training\n",
    "        \"\"\"\n",
    "\n",
    "        self.initialize_classifiers(L, y)\n",
    "        self.classes = np.unique(y)\n",
    "\n",
    "        previous_e = [0.5 for i in range(self.n)]\n",
    "        previous_l = [0.0 for i in range(self.n)]\n",
    "        e = [0.0 for i in range(self.n)]\n",
    "\n",
    "        new_data = True\n",
    "\n",
    "        while new_data:\n",
    "\n",
    "            cls_changes = np.array([False for i in range(self.n)])\n",
    "            cls_pseudo_updates = [() for i in range(self.n)]\n",
    "\n",
    "            for i in range(self.n):\n",
    "\n",
    "                e[i] = self.measure_error(i, L, y)\n",
    "\n",
    "                if e[i] < previous_e[i]:\n",
    "                    cls_pseudo_updates[i] = self.create_pseudolabeled_set(i, U)\n",
    "\n",
    "                    if previous_l[i] == 0:\n",
    "                        previous_l[i] = floor((e[i] / (previous_e[i]-e[i])) + 1)\n",
    "\n",
    "                    L_i_size = cls_pseudo_updates[i][0].shape[0]\n",
    "\n",
    "                    if previous_l[i] < L_i_size:\n",
    "\n",
    "                        if e[i] * L_i_size < previous_e[i] * previous_l[i]:\n",
    "                            cls_changes[i] = True\n",
    "                        \n",
    "                        elif previous_l[i] > (e[i] / (previous_e[i] - e[i])):\n",
    "\n",
    "                            L_index = self.rd.choice(L_i_size, ceil((previous_e[i] * previous_l[i] / e[i]) - 1))\n",
    "                            cls_pseudo_updates[i] = (cls_pseudo_updates[i][0][L_index, :], cls_pseudo_updates[i][1][L_index])\n",
    "                            cls_changes[i] = True\n",
    "\n",
    "            if cls_changes.sum() == 0:\n",
    "                new_data = False\n",
    "\n",
    "            else:\n",
    "\n",
    "                for i in np.fromiter(self.classifiers.keys(), dtype=int)[cls_changes]:\n",
    "\n",
    "                    X_train = np.concatenate((L, cls_pseudo_updates[i][0]))\n",
    "                    y_train = np.concatenate((y, cls_pseudo_updates[i][1]))\n",
    "                    self.classifiers[i] = self.classifiers[i].fit(X_train, y_train)\n",
    "\n",
    "                    previous_e[i] = e[i]\n",
    "                    previous_l[i] = cls_pseudo_updates[i][0].shape[0] #Tamaño de Li anterior"
   ]
  },
  {
   "attachments": {},
   "cell_type": "markdown",
   "metadata": {},
   "source": [
    "# **GRAPHS**"
   ]
  },
  {
   "cell_type": "code",
   "execution_count": 35,
   "metadata": {},
   "outputs": [],
   "source": [
    "h_0 = DecisionTreeClassifier()\n",
    "h_1 = GaussianNB()\n",
    "h_2 = KNeighborsClassifier()\n",
    "rd = np.random.RandomState(5)\n",
    "t_t_g = TriTraining_graphs(h_0, h_1, h_2, rd)"
   ]
  },
  {
   "attachments": {},
   "cell_type": "markdown",
   "metadata": {},
   "source": [
    "### **Contra KEEL** 🦈🍣"
   ]
  },
  {
   "cell_type": "code",
   "execution_count": 36,
   "metadata": {},
   "outputs": [
    {
     "name": "stdout",
     "output_type": "stream",
     "text": [
      "[0.8333333333333334, 0.7777777777777778, 0.9444444444444444, 0.6666666666666666, 0.9411764705882353, 0.8823529411764706, 0.8888888888888888, 0.8333333333333334, 0.6666666666666666, 1.0]\n",
      "0.8434640522875817\n"
     ]
    }
   ],
   "source": [
    "l = []\n",
    "\n",
    "for i in range(1, 11):\n",
    "\n",
    "    file_train = \"wine/wine-ssl10-10-{}tra.csv\".format(i)\n",
    "    file_test = \"wine/wine-ssl10-10-{}tst.csv\".format(i)\n",
    "\n",
    "    # file_train = \"iris/{}f_tra.csv\".format(i)\n",
    "    # file_test = \"iris/{}f_tst.csv\".format(i)\n",
    "\n",
    "    L, L_tags, U = extract_training_data(file_train)\n",
    "    X_test, y_test = extract_test_data(file_test)\n",
    "\n",
    "    t_t_g = TriTraining_graphs(h_0, h_1, h_2, rd)\n",
    "    t_t_g.fit(L, L_tags, U)\n",
    "    l.append(t_t_g.score(X_test, y_test))\n",
    "\n",
    "print(l)\n",
    "print(np.array(l).mean())"
   ]
  }
 ],
 "metadata": {
  "kernelspec": {
   "display_name": "Python 3",
   "language": "python",
   "name": "python3"
  },
  "language_info": {
   "codemirror_mode": {
    "name": "ipython",
    "version": 3
   },
   "file_extension": ".py",
   "mimetype": "text/x-python",
   "name": "python",
   "nbconvert_exporter": "python",
   "pygments_lexer": "ipython3",
   "version": "3.10.4"
  },
  "orig_nbformat": 4,
  "vscode": {
   "interpreter": {
    "hash": "d5061e2ebcf242305dcdb45d871ef5cd4ba433365f314bc2418d41c77ce076e8"
   }
  }
 },
 "nbformat": 4,
 "nbformat_minor": 2
}
