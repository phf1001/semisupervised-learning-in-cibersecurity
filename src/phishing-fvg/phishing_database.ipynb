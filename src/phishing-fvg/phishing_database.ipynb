{
 "cells": [
  {
   "cell_type": "code",
   "execution_count": 4,
   "metadata": {},
   "outputs": [],
   "source": [
    "import requests\n",
    "from copy import deepcopy"
   ]
  },
  {
   "cell_type": "code",
   "execution_count": null,
   "metadata": {},
   "outputs": [],
   "source": [
    "phishtank = 'http://data.phishtank.com/data/online-valid.json'\n",
    "h = requests.get(phishtank, headers={'User-Agent': 'Mozilla/5.0 (Windows NT 6.1; WOW64; rv:50.0) Gecko/20100101 Firefox/50.0'}).content"
   ]
  },
  {
   "cell_type": "code",
   "execution_count": null,
   "metadata": {},
   "outputs": [],
   "source": [
    "resp = deepcopy(h)\n",
    "resp.decode().split(\"\\n\")"
   ]
  },
  {
   "cell_type": "code",
   "execution_count": null,
   "metadata": {},
   "outputs": [],
   "source": [
    "given = [{\"phish_id\":\"8022649\",\n",
    "\"url\":\"http:\\/\\/allblockchaindapp.godaddysites.com\",\n",
    "\"phish_detail_url\":\"http:\\/\\/www.phishtank.com\\/phish_detail.php?phish_id=8022649\",\n",
    "\"submission_time\":\"2023-02-01T09:36:14+00:00\",\n",
    "\"verified\":\"yes\",\n",
    "\"verification_time\":\"2023-02-01T09:51:56+00:00\",\n",
    "\"online\":\"yes\",\n",
    "\"details\":[{\"ip_address\":\"76.223.105.230\",\"cidr_block\":\"76.223.96.0\\/20\",\"announcing_network\":\"16509\",\"rir\":\"arin\",\"country\":\"US\",\"detail_time\":\"2023-02-01T09:52:52+00:00\"}],\n",
    "\"target\":\"Other\"}, \n",
    "\n",
    "{\"phish_id\":\"8022504\",\"url\":\"https:\\/\\/bts365phs.weebly.com\\/\",\"phish_detail_url\":\"http:\\/\\/www.phishtank.com\\/phish_detail.php?phish_id=8022504\",\"submission_time\":\"2023-02-01T05:59:47+00:00\",\"verified\":\"yes\",\"verification_time\":\"2023-02-01T08:32:52+00:00\",\"online\":\"yes\",\"details\":[{\"ip_address\":\"199.34.228.54\",\"cidr_block\":\"199.34.228.0\\/22\",\"announcing_network\":\"27647\",\"rir\":\"arin\",\"country\":\"US\",\"detail_time\":\"2023-02-01T08:32:49+00:00\"}],\"target\":\"Microsoft\"},{\"phish_id\":\"8022502\",\"url\":\"https:\\/\\/my-business-105154-109092.square.site\\/\",\"phish_detail_url\":\"http:\\/\\/www.phishtank.com\\/phish_detail.php?phish_id=8022502\",\"submission_time\":\"2023-02-01T05:47:37+00:00\",\"verified\":\"yes\",\"verification_time\":\"2023-02-01T08:32:52+00:00\",\"online\":\"yes\",\"details\":[{\"ip_address\":\"199.34.228.39\",\"cidr_block\":\"199.34.228.0\\/22\",\"announcing_network\":\"27647\",\"rir\":\"arin\",\"country\":\"US\",\"detail_time\":\"2023-02-01T08:32:49+00:00\"}],\"target\":\"AT&amp;T\"},{\"phish_id\":\"8022496\",\"url\":\"https:\\/\\/atorefunding.line.pm\\/ret\\/MyGovATO\",\"phish_detail_url\":\"http:\\/\\/www.phishtank.com\\/phish_detail.php?phish_id=8022496\",\"submission_time\":\"2023-02-01T04:46:04+00:00\",\"verified\":\"yes\",\"verification_time\":\"2023-02-01T08:32:52+00:00\",\"online\":\"yes\",\"details\":[{\"ip_address\":\"185.254.37.245\",\"cidr_block\":\"185.254.37.0\\/24\",\"announcing_network\":\"211252\",\"rir\":\"ripencc\",\"country\":\"BG\",\"detail_time\":\"2023-02-01T08:32:49+00:00\"}],\"target\":\"Bank of America Corporation\"},{\"phish_id\":\"8022494\",\"url\":\"http:\\/\\/ryanml.github.io\\/website\",\"phish_detail_url\":\"http:\\/\\/www.phishtank.com\\/phish_detail.php?phish_id=8022494\",\"submission_time\":\"2023-02-01T04:42:18+00:00\",\"verified\":\"yes\",\"verification_time\":\"2023-02-01T08:32:52+00:00\",\"online\":\"yes\",\"details\":[{\"ip_address\":\"185.199.109.153\",\"cidr_block\":\"185.199.109.0\\/24\",\"announcing_network\":\"54113\",\"rir\":\"ripencc\",\"country\":\"US\",\"detail_time\":\"2023-02-01T08:32:49+00:00\"}],\"target\":\"Other\"},{\"phish_id\":\"8022491\",\"url\":\"https:\\/\\/www2-ek1net.xyz\\/\",\"phish_detail_url\":\"http:\\/\\/www.phishtank.com\\/phish_detail.php?phish_id=8022491\",\"submission_time\":\"2023-02-01T04:36:13+00:00\",\"verified\":\"yes\",\"verification_time\":\"2023-02-01T08:32:52+00:00\",\"online\":\"yes\",\"details\":[{\"ip_address\":\"155.94.141.187\",\"cidr_block\":\"155.94.128.0\\/17\",\"announcing_network\":\"8100\",\"rir\":\"arin\",\"country\":\"US\",\"detail_time\":\"2023-02-01T08:32:49+00:00\"}],\"target\":\"East Japan Railway Company\"},{\"phish_id\":\"8022489\",\"url\":\"http:\\/\\/manyfaces.net.au\",\"phish_detail_url\":\"http:\\/\\/www.phishtank.com\\/phish_detail.php?phish_id=8022489\",\"submission_time\":\"2023-02-01T04:25:30+00:00\",\"verified\":\"yes\",\"verification_time\":\"2023-02-01T08:32:52+00:00\",\"online\":\"yes\",\"details\":[{\"ip_address\":\"116.0.23.237\",\"cidr_block\":\"116.0.16.0\\/21\",\"announcing_network\":\"38719\",\"rir\":\"apnic\",\"country\":\"AU\",\"detail_time\":\"2023-02-01T08:32:49+00:00\"}],\"target\":\"Other\"},{\"phish_id\":\"8022488\",\"url\":\"https:\\/\\/www2-aamonnm1.xyz\\/\",\"phish_detail_url\":\"http:\\/\\/www.phishtank.com\\/phish_detail.php?phish_id=8022488\",\"submission_time\":\"2023-02-01T04:10:47+00:00\",\"verified\":\"yes\",\"verification_time\":\"2023-02-01T08:32:52+00:00\",\"online\":\"yes\",\"details\":[{\"ip_address\":\"155.94.141.187\",\"cidr_block\":\"155.94.128.0\\/17\",\"announcing_network\":\"8100\",\"rir\":\"arin\",\"country\":\"US\",\"detail_time\":\"2023-02-01T08:32:48+00:00\"}],\"target\":\"Amazon.com\"},{\"phish_id\":\"8022481\",\"url\":\"http:\\/\\/groundcell.uk.com\",\"phish_detail_url\":\"http:\\/\\/www.phishtank.com\\/phish_detail.php?phish_id=8022481\",\"submission_time\":\"2023-02-01T03:30:26+00:00\",\"verified\":\"yes\",\"verification_time\":\"2023-02-01T03:42:18+00:00\",\"online\":\"yes\",\"details\":[{\"ip_address\":\"185.24.98.215\",\"cidr_block\":\"185.24.98.0\\/24\",\"announcing_network\":\"20738\",\"rir\":\"ripencc\",\"country\":\"DE\",\"detail_time\":\"2023-02-01T03:43:16+00:00\"}],\"target\":\"Other\"},{\"phish_id\":\"8022480\",\"url\":\"https:\\/\\/www.transcendenceai.org\\/\",\"phish_detail_url\":\"http:\\/\\/www.phishtank.com\\/phish_detail.php?phish_id=8022480\",\"submission_time\":\"2023-02-01T03:26:24+00:00\",\"verified\":\"yes\",\"verification_time\":\"2023-02-01T03:42:18+00:00\",\"online\":\"yes\",\"details\":[{\"ip_address\":\"34.117.168.233\",\"cidr_block\":\"34.116.0.0\\/14\",\"announcing_network\":\"396982\",\"rir\":\"arin\",\"country\":\"US\",\"detail_time\":\"2023-02-01T03:43:16+00:00\"}],\"target\":\"Other\"},{\"phish_id\":\"8022478\",\"url\":\"https:\\/\\/funyouthclub.wlbl.xyz\\/\",\"phish_detail_url\":\"http:\\/\\/www.phishtank.com\\/phish_detail.php?phish_id=8022478\",\"submission_time\":\"2023-02-01T03:20:07+00:00\",\"verified\":\"yes\",\"verification_time\":\"2023-02-01T03:42:18+00:00\",\"online\":\"yes\",\"details\":[{\"ip_address\":\"104.21.35.102\",\"cidr_block\":\"104.21.32.0\\/19\",\"announcing_network\":\"13335\",\"rir\":\"arin\",\"country\":\"US\",\"detail_time\":\"2023-02-01T03:43:15+00:00\"}],\"target\":\"Other\"},{\"phish_id\":\"8022475\",\"url\":\"http:\\/\\/claim.forbes.exchange\",\"phish_detail_url\":\"http:\\/\\/www.phishtank.com\\/phish_detail.php?phish_id=8022475\",\"submission_time\":\"2023-02-01T03:10:12+00:00\",\"verified\":\"yes\",\"verification_time\":\"2023-02-01T03:42:18+00:00\",\"online\":\"yes\",\"details\":[{\"ip_address\":\"172.67.143.242\",\"cidr_block\":\"172.67.128.0\\/20\",\"announcing_network\":\"13335\",\"rir\":\"arin\",\"country\":\"US\",\"detail_time\":\"2023-02-01T03:43:15+00:00\"}],\"target\":\"Other\"}]"
   ]
  },
  {
   "cell_type": "code",
   "execution_count": null,
   "metadata": {},
   "outputs": [],
   "source": [
    "phishtank_urls = [dictionary['url'].replace(\"\\\\\", \"\") for dictionary in given]"
   ]
  },
  {
   "cell_type": "code",
   "execution_count": null,
   "metadata": {},
   "outputs": [],
   "source": [
    "open_fish = 'https://openphish.com/feed.txt'\n",
    "h = requests.get(open_fish, headers={'User-Agent': 'Mozilla/5.0 (Windows NT 6.1; WOW64; rv:50.0) Gecko/20100101 Firefox/50.0'}).content"
   ]
  },
  {
   "cell_type": "code",
   "execution_count": 30,
   "metadata": {},
   "outputs": [
    {
     "data": {
      "text/plain": [
       "501"
      ]
     },
     "execution_count": 30,
     "metadata": {},
     "output_type": "execute_result"
    }
   ],
   "source": [
    "resp = deepcopy(h)\n",
    "list = resp.decode().split(\"\\n\")\n",
    "\n",
    "#501\n",
    "len(list)"
   ]
  },
  {
   "cell_type": "code",
   "execution_count": 1,
   "metadata": {},
   "outputs": [
    {
     "name": "stderr",
     "output_type": "stream",
     "text": [
      "[nltk_data] Downloading package stopwords to\n",
      "[nltk_data]     C:\\Users\\patri\\AppData\\Roaming\\nltk_data...\n",
      "[nltk_data]   Package stopwords is already up-to-date!\n",
      "[nltk_data] Downloading package punkt to\n",
      "[nltk_data]     C:\\Users\\patri\\AppData\\Roaming\\nltk_data...\n",
      "[nltk_data]   Package punkt is already up-to-date!\n"
     ]
    }
   ],
   "source": [
    "from phishing_utils import *"
   ]
  },
  {
   "cell_type": "code",
   "execution_count": 5,
   "metadata": {},
   "outputs": [
    {
     "ename": "MissingSchema",
     "evalue": "Invalid URL 'chingari.io': No scheme supplied. Perhaps you meant http://chingari.io?",
     "output_type": "error",
     "traceback": [
      "\u001b[1;31m---------------------------------------------------------------------------\u001b[0m",
      "\u001b[1;31mMissingSchema\u001b[0m                             Traceback (most recent call last)",
      "Cell \u001b[1;32mIn [5], line 2\u001b[0m\n\u001b[0;32m      1\u001b[0m \u001b[39m#get_legitimate_urls()\u001b[39;00m\n\u001b[1;32m----> 2\u001b[0m requests\u001b[39m.\u001b[39;49mget(\u001b[39m'\u001b[39;49m\u001b[39mchingari.io\u001b[39;49m\u001b[39m'\u001b[39;49m)\n",
      "File \u001b[1;32mc:\\Users\\patri\\source\\venvs\\tfg-01\\lib\\site-packages\\requests\\api.py:73\u001b[0m, in \u001b[0;36mget\u001b[1;34m(url, params, **kwargs)\u001b[0m\n\u001b[0;32m     62\u001b[0m \u001b[39mdef\u001b[39;00m \u001b[39mget\u001b[39m(url, params\u001b[39m=\u001b[39m\u001b[39mNone\u001b[39;00m, \u001b[39m*\u001b[39m\u001b[39m*\u001b[39mkwargs):\n\u001b[0;32m     63\u001b[0m     \u001b[39mr\u001b[39m\u001b[39m\"\"\"Sends a GET request.\u001b[39;00m\n\u001b[0;32m     64\u001b[0m \n\u001b[0;32m     65\u001b[0m \u001b[39m    :param url: URL for the new :class:`Request` object.\u001b[39;00m\n\u001b[1;32m   (...)\u001b[0m\n\u001b[0;32m     70\u001b[0m \u001b[39m    :rtype: requests.Response\u001b[39;00m\n\u001b[0;32m     71\u001b[0m \u001b[39m    \"\"\"\u001b[39;00m\n\u001b[1;32m---> 73\u001b[0m     \u001b[39mreturn\u001b[39;00m request(\u001b[39m\"\u001b[39m\u001b[39mget\u001b[39m\u001b[39m\"\u001b[39m, url, params\u001b[39m=\u001b[39mparams, \u001b[39m*\u001b[39m\u001b[39m*\u001b[39mkwargs)\n",
      "File \u001b[1;32mc:\\Users\\patri\\source\\venvs\\tfg-01\\lib\\site-packages\\requests\\api.py:59\u001b[0m, in \u001b[0;36mrequest\u001b[1;34m(method, url, **kwargs)\u001b[0m\n\u001b[0;32m     55\u001b[0m \u001b[39m# By using the 'with' statement we are sure the session is closed, thus we\u001b[39;00m\n\u001b[0;32m     56\u001b[0m \u001b[39m# avoid leaving sockets open which can trigger a ResourceWarning in some\u001b[39;00m\n\u001b[0;32m     57\u001b[0m \u001b[39m# cases, and look like a memory leak in others.\u001b[39;00m\n\u001b[0;32m     58\u001b[0m \u001b[39mwith\u001b[39;00m sessions\u001b[39m.\u001b[39mSession() \u001b[39mas\u001b[39;00m session:\n\u001b[1;32m---> 59\u001b[0m     \u001b[39mreturn\u001b[39;00m session\u001b[39m.\u001b[39mrequest(method\u001b[39m=\u001b[39mmethod, url\u001b[39m=\u001b[39murl, \u001b[39m*\u001b[39m\u001b[39m*\u001b[39mkwargs)\n",
      "File \u001b[1;32mc:\\Users\\patri\\source\\venvs\\tfg-01\\lib\\site-packages\\requests\\sessions.py:573\u001b[0m, in \u001b[0;36mSession.request\u001b[1;34m(self, method, url, params, data, headers, cookies, files, auth, timeout, allow_redirects, proxies, hooks, stream, verify, cert, json)\u001b[0m\n\u001b[0;32m    560\u001b[0m \u001b[39m# Create the Request.\u001b[39;00m\n\u001b[0;32m    561\u001b[0m req \u001b[39m=\u001b[39m Request(\n\u001b[0;32m    562\u001b[0m     method\u001b[39m=\u001b[39mmethod\u001b[39m.\u001b[39mupper(),\n\u001b[0;32m    563\u001b[0m     url\u001b[39m=\u001b[39murl,\n\u001b[1;32m   (...)\u001b[0m\n\u001b[0;32m    571\u001b[0m     hooks\u001b[39m=\u001b[39mhooks,\n\u001b[0;32m    572\u001b[0m )\n\u001b[1;32m--> 573\u001b[0m prep \u001b[39m=\u001b[39m \u001b[39mself\u001b[39;49m\u001b[39m.\u001b[39;49mprepare_request(req)\n\u001b[0;32m    575\u001b[0m proxies \u001b[39m=\u001b[39m proxies \u001b[39mor\u001b[39;00m {}\n\u001b[0;32m    577\u001b[0m settings \u001b[39m=\u001b[39m \u001b[39mself\u001b[39m\u001b[39m.\u001b[39mmerge_environment_settings(\n\u001b[0;32m    578\u001b[0m     prep\u001b[39m.\u001b[39murl, proxies, stream, verify, cert\n\u001b[0;32m    579\u001b[0m )\n",
      "File \u001b[1;32mc:\\Users\\patri\\source\\venvs\\tfg-01\\lib\\site-packages\\requests\\sessions.py:484\u001b[0m, in \u001b[0;36mSession.prepare_request\u001b[1;34m(self, request)\u001b[0m\n\u001b[0;32m    481\u001b[0m     auth \u001b[39m=\u001b[39m get_netrc_auth(request\u001b[39m.\u001b[39murl)\n\u001b[0;32m    483\u001b[0m p \u001b[39m=\u001b[39m PreparedRequest()\n\u001b[1;32m--> 484\u001b[0m p\u001b[39m.\u001b[39;49mprepare(\n\u001b[0;32m    485\u001b[0m     method\u001b[39m=\u001b[39;49mrequest\u001b[39m.\u001b[39;49mmethod\u001b[39m.\u001b[39;49mupper(),\n\u001b[0;32m    486\u001b[0m     url\u001b[39m=\u001b[39;49mrequest\u001b[39m.\u001b[39;49murl,\n\u001b[0;32m    487\u001b[0m     files\u001b[39m=\u001b[39;49mrequest\u001b[39m.\u001b[39;49mfiles,\n\u001b[0;32m    488\u001b[0m     data\u001b[39m=\u001b[39;49mrequest\u001b[39m.\u001b[39;49mdata,\n\u001b[0;32m    489\u001b[0m     json\u001b[39m=\u001b[39;49mrequest\u001b[39m.\u001b[39;49mjson,\n\u001b[0;32m    490\u001b[0m     headers\u001b[39m=\u001b[39;49mmerge_setting(\n\u001b[0;32m    491\u001b[0m         request\u001b[39m.\u001b[39;49mheaders, \u001b[39mself\u001b[39;49m\u001b[39m.\u001b[39;49mheaders, dict_class\u001b[39m=\u001b[39;49mCaseInsensitiveDict\n\u001b[0;32m    492\u001b[0m     ),\n\u001b[0;32m    493\u001b[0m     params\u001b[39m=\u001b[39;49mmerge_setting(request\u001b[39m.\u001b[39;49mparams, \u001b[39mself\u001b[39;49m\u001b[39m.\u001b[39;49mparams),\n\u001b[0;32m    494\u001b[0m     auth\u001b[39m=\u001b[39;49mmerge_setting(auth, \u001b[39mself\u001b[39;49m\u001b[39m.\u001b[39;49mauth),\n\u001b[0;32m    495\u001b[0m     cookies\u001b[39m=\u001b[39;49mmerged_cookies,\n\u001b[0;32m    496\u001b[0m     hooks\u001b[39m=\u001b[39;49mmerge_hooks(request\u001b[39m.\u001b[39;49mhooks, \u001b[39mself\u001b[39;49m\u001b[39m.\u001b[39;49mhooks),\n\u001b[0;32m    497\u001b[0m )\n\u001b[0;32m    498\u001b[0m \u001b[39mreturn\u001b[39;00m p\n",
      "File \u001b[1;32mc:\\Users\\patri\\source\\venvs\\tfg-01\\lib\\site-packages\\requests\\models.py:368\u001b[0m, in \u001b[0;36mPreparedRequest.prepare\u001b[1;34m(self, method, url, headers, files, data, params, auth, cookies, hooks, json)\u001b[0m\n\u001b[0;32m    365\u001b[0m \u001b[39m\"\"\"Prepares the entire request with the given parameters.\"\"\"\u001b[39;00m\n\u001b[0;32m    367\u001b[0m \u001b[39mself\u001b[39m\u001b[39m.\u001b[39mprepare_method(method)\n\u001b[1;32m--> 368\u001b[0m \u001b[39mself\u001b[39;49m\u001b[39m.\u001b[39;49mprepare_url(url, params)\n\u001b[0;32m    369\u001b[0m \u001b[39mself\u001b[39m\u001b[39m.\u001b[39mprepare_headers(headers)\n\u001b[0;32m    370\u001b[0m \u001b[39mself\u001b[39m\u001b[39m.\u001b[39mprepare_cookies(cookies)\n",
      "File \u001b[1;32mc:\\Users\\patri\\source\\venvs\\tfg-01\\lib\\site-packages\\requests\\models.py:439\u001b[0m, in \u001b[0;36mPreparedRequest.prepare_url\u001b[1;34m(self, url, params)\u001b[0m\n\u001b[0;32m    436\u001b[0m     \u001b[39mraise\u001b[39;00m InvalidURL(\u001b[39m*\u001b[39me\u001b[39m.\u001b[39margs)\n\u001b[0;32m    438\u001b[0m \u001b[39mif\u001b[39;00m \u001b[39mnot\u001b[39;00m scheme:\n\u001b[1;32m--> 439\u001b[0m     \u001b[39mraise\u001b[39;00m MissingSchema(\n\u001b[0;32m    440\u001b[0m         \u001b[39mf\u001b[39m\u001b[39m\"\u001b[39m\u001b[39mInvalid URL \u001b[39m\u001b[39m{\u001b[39;00murl\u001b[39m!r}\u001b[39;00m\u001b[39m: No scheme supplied. \u001b[39m\u001b[39m\"\u001b[39m\n\u001b[0;32m    441\u001b[0m         \u001b[39mf\u001b[39m\u001b[39m\"\u001b[39m\u001b[39mPerhaps you meant http://\u001b[39m\u001b[39m{\u001b[39;00murl\u001b[39m}\u001b[39;00m\u001b[39m?\u001b[39m\u001b[39m\"\u001b[39m\n\u001b[0;32m    442\u001b[0m     )\n\u001b[0;32m    444\u001b[0m \u001b[39mif\u001b[39;00m \u001b[39mnot\u001b[39;00m host:\n\u001b[0;32m    445\u001b[0m     \u001b[39mraise\u001b[39;00m InvalidURL(\u001b[39mf\u001b[39m\u001b[39m\"\u001b[39m\u001b[39mInvalid URL \u001b[39m\u001b[39m{\u001b[39;00murl\u001b[39m!r}\u001b[39;00m\u001b[39m: No host supplied\u001b[39m\u001b[39m\"\u001b[39m)\n",
      "\u001b[1;31mMissingSchema\u001b[0m: Invalid URL 'chingari.io': No scheme supplied. Perhaps you meant http://chingari.io?"
     ]
    }
   ],
   "source": [
    "#get_legitimate_urls()\n",
    "requests.get('chingari.io')"
   ]
  }
 ],
 "metadata": {
  "kernelspec": {
   "display_name": "Python 3",
   "language": "python",
   "name": "python3"
  },
  "language_info": {
   "codemirror_mode": {
    "name": "ipython",
    "version": 3
   },
   "file_extension": ".py",
   "mimetype": "text/x-python",
   "name": "python",
   "nbconvert_exporter": "python",
   "pygments_lexer": "ipython3",
   "version": "3.10.4"
  },
  "orig_nbformat": 4,
  "vscode": {
   "interpreter": {
    "hash": "d5061e2ebcf242305dcdb45d871ef5cd4ba433365f314bc2418d41c77ce076e8"
   }
  }
 },
 "nbformat": 4,
 "nbformat_minor": 2
}
