{
 "cells": [
  {
   "cell_type": "code",
   "execution_count": 1,
   "metadata": {},
   "outputs": [],
   "source": [
    "import requests\n",
    "from copy import deepcopy"
   ]
  },
  {
   "cell_type": "code",
   "execution_count": 2,
   "metadata": {},
   "outputs": [],
   "source": [
    "phishtank = 'http://data.phishtank.com/data/online-valid.json'\n",
    "h = requests.get(phishtank, headers={'User-Agent': 'Mozilla/5.0 (Windows NT 6.1; WOW64; rv:50.0) Gecko/20100101 Firefox/50.0'}).content"
   ]
  },
  {
   "cell_type": "code",
   "execution_count": 3,
   "metadata": {},
   "outputs": [
    {
     "data": {
      "text/plain": [
       "['<!DOCTYPE html>',\n",
       " '<html lang=\"en-US\">',\n",
       " '<head>',\n",
       " '<title>Access denied</title>',\n",
       " '<meta http-equiv=\"X-UA-Compatible\" content=\"IE=Edge\" />',\n",
       " '<meta name=\"robots\" content=\"noindex, nofollow\" />',\n",
       " '<meta name=\"viewport\" content=\"width=device-width,initial-scale=1\" />',\n",
       " '<link rel=\"stylesheet\" href=\"/cdn-cgi/styles/errors.css\" media=\"screen\" />',\n",
       " '<script>',\n",
       " '(function(){if(document.addEventListener&&window.XMLHttpRequest&&JSON&&JSON.stringify){var e=function(a){var c=document.getElementById(\"error-feedback-survey\"),d=document.getElementById(\"error-feedback-success\"),b=new XMLHttpRequest;a={event:\"feedback clicked\",properties:{errorCode:1020,helpful:a,version:5}};b.open(\"POST\",\"https://sparrow.cloudflare.com/api/v1/event\");b.setRequestHeader(\"Content-Type\",\"application/json\");b.setRequestHeader(\"Sparrow-Source-Key\",\"c771f0e4b54944bebf4261d44bd79a1e\");',\n",
       " 'b.send(JSON.stringify(a));c.classList.add(\"feedback-hidden\");d.classList.remove(\"feedback-hidden\")};document.addEventListener(\"DOMContentLoaded\",function(){var a=document.getElementById(\"error-feedback\"),c=document.getElementById(\"feedback-button-yes\"),d=document.getElementById(\"feedback-button-no\");\"classList\"in a&&(a.classList.remove(\"feedback-hidden\"),c.addEventListener(\"click\",function(){e(!0)}),d.addEventListener(\"click\",function(){e(!1)}))})}})();',\n",
       " '</script>',\n",
       " '<script>',\n",
       " '      (function(){function d(c){var b=document.getElementById(\"copy-label\"),a=document.getElementById(\"cf-details-wrapper-expandable\");c.target.checked?a.classList.add(\"expanded\"):(a.classList.remove(\"expanded\"),b.innerText=\"Click to copy\")}if(document.addEventListener){var e=function(){var c=document.getElementById(\"copy-label\");var b=document.getElementById(\"error-details\").textContent;if(navigator.clipboard)navigator.clipboard.writeText(b);else{var a=document.createElement(\"textarea\");a.value=b;a.style.top=\"0\";a.style.left=\"0\";a.style.position=\"fixed\";document.body.appendChild(a);a.focus();a.select();document.execCommand(\"copy\");document.body.removeChild(a)}c.innerText=\"Copied text to clipboard\"};document.addEventListener(\"DOMContentLoaded\",function(){var c=document.getElementById(\"error-details-checkbox\"),b=document.getElementById(\"click-to-copy-btn\");document.getElementById(\"copy-label\").classList.remove(\"hidden\");c.addEventListener(\"change\",d);b.addEventListener(\"click\",e)})}})();',\n",
       " '      </script>',\n",
       " '<script defer src=\"https://performance.radar.cloudflare.com/beacon.js\"></script>',\n",
       " '</head>',\n",
       " '<body>',\n",
       " '<div class=\"cf-main-wrapper\" role=\"main\">',\n",
       " '<div class=\"cf-header cf-section\">',\n",
       " '<div class=\"cf-error-title\">',\n",
       " '<h1>Access denied</h1>',\n",
       " '<span class=\"cf-code-label\">Error code <span>1020</span></span>',\n",
       " '</div>',\n",
       " '<div class=\"cf-error-description\">',\n",
       " '<p>You do not have access to data.phishtank.com.</p><p>The site owner may have set restrictions that prevent you from accessing the site.</p>',\n",
       " '</div>',\n",
       " '</div>',\n",
       " '</div>',\n",
       " '<div class=\"cf-details-wrapper\">',\n",
       " '<div class=\"cf-section\" role=\"region\">',\n",
       " '<div class=\"cf-expandable\" id=\"cf-details-wrapper-expandable\">',\n",
       " '<label for=\"error-details-checkbox\" title=\"Error details\" class=\"cf-expandable-btn\">',\n",
       " '<p class=\"cf-dropdown-title\">Error details</p>',\n",
       " '<img src=\"data:image/png;base64,iVBORw0KGgoAAAANSUhEUgAAACAAAAAgBAMAAACBVGfHAAAAElBMVEUAAAAwMDAxMTEyMjIwMDAxMTF+89HTAAAABXRSTlMAf2CAMKS61bwAAABTSURBVCjPzcq7DcAgFENR5zMATfo06TNCViAS+6+CeFi6gglw4eLqaPVtaQpXnkApaQT/k0dw70EAUhCA1AnABGACMAGYAEwAkCOAydv+I5xaZhXWbQrD80TkkQAAAABJRU5ErkJggg==\" class=\"cf-caret-icon\" id=\"caret-icon\" alt=\"Caret icon\" />',\n",
       " '</label>',\n",
       " '<input id=\"error-details-checkbox\" class=\"hidden\" type=\"checkbox\">',\n",
       " '<div class=\"cf-expandable-error-info hidden\">',\n",
       " '<p class=\"cf-error-copy-description\">Provide the site owner this information.</p>',\n",
       " '<button class=\"cf-click-to-copy-btn\" id=\"click-to-copy-btn\" title=\"Click to copy\" type=\"button\">',\n",
       " '<div class=\"cf-error-wrapper\" id=\"error-details\"><p class=\"cf-error-details-endpoint\">I got an error when visiting data.phishtank.com/data/online-valid.json.</p>',\n",
       " '<p>Error code: 1020</p>',\n",
       " '<p>Ray ID: 792bc61b9b55662f</p>',\n",
       " '<p>Country: ES</p>',\n",
       " '<p>Data center: mad03</p>',\n",
       " '<p>IP: 83.52.202.26</p>',\n",
       " '<p>Timestamp: 2023-02-01 15:38:23 UTC</p>',\n",
       " '</div>',\n",
       " '<p class=\"cf-copy-label hidden\" id=\"copy-label\">Click to copy</p>',\n",
       " '</button>',\n",
       " '</div>',\n",
       " '</div>',\n",
       " '</div>',\n",
       " '<div class=\"clearfix cf-footer cf-section\" role=\"contentinfo\">',\n",
       " '<div class=\"cf-column\">',\n",
       " '<div class=\"feedback-hidden py-8 text-center\" id=\"error-feedback\">',\n",
       " '<div id=\"error-feedback-survey\" class=\"footer-line-wrapper\">',\n",
       " 'Was this page helpful?',\n",
       " '<button class=\"border border-solid bg-white cf-button cursor-pointer ml-4 px-4 py-2 rounded\" id=\"feedback-button-yes\" type=\"button\">Yes</button>',\n",
       " '<button class=\"border border-solid bg-white cf-button cursor-pointer ml-4 px-4 py-2 rounded\" id=\"feedback-button-no\" type=\"button\">No</button>',\n",
       " '</div>',\n",
       " '<div class=\"feedback-success feedback-hidden\" id=\"error-feedback-success\">',\n",
       " 'Thank you for your feedback!',\n",
       " '</div>',\n",
       " '</div>',\n",
       " '</div>',\n",
       " '<div class=\"cf-column cf-footer-line-wrapper text-center\">',\n",
       " '<p>',\n",
       " 'Performance &amp; security by <a rel=\"noopener noreferrer\" href=\"https://www.cloudflare.com?utm_source=1020_error\" target=\"_blank\">Cloudflare <img class=\"external-link\" title=\"Opens in new tab\" src=\"/cdn-cgi/images/external.png\" alt=\"External link\"></a>',\n",
       " '</p>',\n",
       " '</div>',\n",
       " '</div>',\n",
       " '</div>',\n",
       " '</body>',\n",
       " '</html>',\n",
       " '']"
      ]
     },
     "execution_count": 3,
     "metadata": {},
     "output_type": "execute_result"
    }
   ],
   "source": [
    "resp = deepcopy(h)\n",
    "resp.decode().split(\"\\n\")"
   ]
  },
  {
   "cell_type": "code",
   "execution_count": null,
   "metadata": {},
   "outputs": [],
   "source": [
    "given = [{\"phish_id\":\"8022649\",\n",
    "\"url\":\"http:\\/\\/allblockchaindapp.godaddysites.com\",\n",
    "\"phish_detail_url\":\"http:\\/\\/www.phishtank.com\\/phish_detail.php?phish_id=8022649\",\n",
    "\"submission_time\":\"2023-02-01T09:36:14+00:00\",\n",
    "\"verified\":\"yes\",\n",
    "\"verification_time\":\"2023-02-01T09:51:56+00:00\",\n",
    "\"online\":\"yes\",\n",
    "\"details\":[{\"ip_address\":\"76.223.105.230\",\"cidr_block\":\"76.223.96.0\\/20\",\"announcing_network\":\"16509\",\"rir\":\"arin\",\"country\":\"US\",\"detail_time\":\"2023-02-01T09:52:52+00:00\"}],\n",
    "\"target\":\"Other\"}, \n",
    "\n",
    "{\"phish_id\":\"8022504\",\"url\":\"https:\\/\\/bts365phs.weebly.com\\/\",\"phish_detail_url\":\"http:\\/\\/www.phishtank.com\\/phish_detail.php?phish_id=8022504\",\"submission_time\":\"2023-02-01T05:59:47+00:00\",\"verified\":\"yes\",\"verification_time\":\"2023-02-01T08:32:52+00:00\",\"online\":\"yes\",\"details\":[{\"ip_address\":\"199.34.228.54\",\"cidr_block\":\"199.34.228.0\\/22\",\"announcing_network\":\"27647\",\"rir\":\"arin\",\"country\":\"US\",\"detail_time\":\"2023-02-01T08:32:49+00:00\"}],\"target\":\"Microsoft\"},{\"phish_id\":\"8022502\",\"url\":\"https:\\/\\/my-business-105154-109092.square.site\\/\",\"phish_detail_url\":\"http:\\/\\/www.phishtank.com\\/phish_detail.php?phish_id=8022502\",\"submission_time\":\"2023-02-01T05:47:37+00:00\",\"verified\":\"yes\",\"verification_time\":\"2023-02-01T08:32:52+00:00\",\"online\":\"yes\",\"details\":[{\"ip_address\":\"199.34.228.39\",\"cidr_block\":\"199.34.228.0\\/22\",\"announcing_network\":\"27647\",\"rir\":\"arin\",\"country\":\"US\",\"detail_time\":\"2023-02-01T08:32:49+00:00\"}],\"target\":\"AT&amp;T\"},{\"phish_id\":\"8022496\",\"url\":\"https:\\/\\/atorefunding.line.pm\\/ret\\/MyGovATO\",\"phish_detail_url\":\"http:\\/\\/www.phishtank.com\\/phish_detail.php?phish_id=8022496\",\"submission_time\":\"2023-02-01T04:46:04+00:00\",\"verified\":\"yes\",\"verification_time\":\"2023-02-01T08:32:52+00:00\",\"online\":\"yes\",\"details\":[{\"ip_address\":\"185.254.37.245\",\"cidr_block\":\"185.254.37.0\\/24\",\"announcing_network\":\"211252\",\"rir\":\"ripencc\",\"country\":\"BG\",\"detail_time\":\"2023-02-01T08:32:49+00:00\"}],\"target\":\"Bank of America Corporation\"},{\"phish_id\":\"8022494\",\"url\":\"http:\\/\\/ryanml.github.io\\/website\",\"phish_detail_url\":\"http:\\/\\/www.phishtank.com\\/phish_detail.php?phish_id=8022494\",\"submission_time\":\"2023-02-01T04:42:18+00:00\",\"verified\":\"yes\",\"verification_time\":\"2023-02-01T08:32:52+00:00\",\"online\":\"yes\",\"details\":[{\"ip_address\":\"185.199.109.153\",\"cidr_block\":\"185.199.109.0\\/24\",\"announcing_network\":\"54113\",\"rir\":\"ripencc\",\"country\":\"US\",\"detail_time\":\"2023-02-01T08:32:49+00:00\"}],\"target\":\"Other\"},{\"phish_id\":\"8022491\",\"url\":\"https:\\/\\/www2-ek1net.xyz\\/\",\"phish_detail_url\":\"http:\\/\\/www.phishtank.com\\/phish_detail.php?phish_id=8022491\",\"submission_time\":\"2023-02-01T04:36:13+00:00\",\"verified\":\"yes\",\"verification_time\":\"2023-02-01T08:32:52+00:00\",\"online\":\"yes\",\"details\":[{\"ip_address\":\"155.94.141.187\",\"cidr_block\":\"155.94.128.0\\/17\",\"announcing_network\":\"8100\",\"rir\":\"arin\",\"country\":\"US\",\"detail_time\":\"2023-02-01T08:32:49+00:00\"}],\"target\":\"East Japan Railway Company\"},{\"phish_id\":\"8022489\",\"url\":\"http:\\/\\/manyfaces.net.au\",\"phish_detail_url\":\"http:\\/\\/www.phishtank.com\\/phish_detail.php?phish_id=8022489\",\"submission_time\":\"2023-02-01T04:25:30+00:00\",\"verified\":\"yes\",\"verification_time\":\"2023-02-01T08:32:52+00:00\",\"online\":\"yes\",\"details\":[{\"ip_address\":\"116.0.23.237\",\"cidr_block\":\"116.0.16.0\\/21\",\"announcing_network\":\"38719\",\"rir\":\"apnic\",\"country\":\"AU\",\"detail_time\":\"2023-02-01T08:32:49+00:00\"}],\"target\":\"Other\"},{\"phish_id\":\"8022488\",\"url\":\"https:\\/\\/www2-aamonnm1.xyz\\/\",\"phish_detail_url\":\"http:\\/\\/www.phishtank.com\\/phish_detail.php?phish_id=8022488\",\"submission_time\":\"2023-02-01T04:10:47+00:00\",\"verified\":\"yes\",\"verification_time\":\"2023-02-01T08:32:52+00:00\",\"online\":\"yes\",\"details\":[{\"ip_address\":\"155.94.141.187\",\"cidr_block\":\"155.94.128.0\\/17\",\"announcing_network\":\"8100\",\"rir\":\"arin\",\"country\":\"US\",\"detail_time\":\"2023-02-01T08:32:48+00:00\"}],\"target\":\"Amazon.com\"},{\"phish_id\":\"8022481\",\"url\":\"http:\\/\\/groundcell.uk.com\",\"phish_detail_url\":\"http:\\/\\/www.phishtank.com\\/phish_detail.php?phish_id=8022481\",\"submission_time\":\"2023-02-01T03:30:26+00:00\",\"verified\":\"yes\",\"verification_time\":\"2023-02-01T03:42:18+00:00\",\"online\":\"yes\",\"details\":[{\"ip_address\":\"185.24.98.215\",\"cidr_block\":\"185.24.98.0\\/24\",\"announcing_network\":\"20738\",\"rir\":\"ripencc\",\"country\":\"DE\",\"detail_time\":\"2023-02-01T03:43:16+00:00\"}],\"target\":\"Other\"},{\"phish_id\":\"8022480\",\"url\":\"https:\\/\\/www.transcendenceai.org\\/\",\"phish_detail_url\":\"http:\\/\\/www.phishtank.com\\/phish_detail.php?phish_id=8022480\",\"submission_time\":\"2023-02-01T03:26:24+00:00\",\"verified\":\"yes\",\"verification_time\":\"2023-02-01T03:42:18+00:00\",\"online\":\"yes\",\"details\":[{\"ip_address\":\"34.117.168.233\",\"cidr_block\":\"34.116.0.0\\/14\",\"announcing_network\":\"396982\",\"rir\":\"arin\",\"country\":\"US\",\"detail_time\":\"2023-02-01T03:43:16+00:00\"}],\"target\":\"Other\"},{\"phish_id\":\"8022478\",\"url\":\"https:\\/\\/funyouthclub.wlbl.xyz\\/\",\"phish_detail_url\":\"http:\\/\\/www.phishtank.com\\/phish_detail.php?phish_id=8022478\",\"submission_time\":\"2023-02-01T03:20:07+00:00\",\"verified\":\"yes\",\"verification_time\":\"2023-02-01T03:42:18+00:00\",\"online\":\"yes\",\"details\":[{\"ip_address\":\"104.21.35.102\",\"cidr_block\":\"104.21.32.0\\/19\",\"announcing_network\":\"13335\",\"rir\":\"arin\",\"country\":\"US\",\"detail_time\":\"2023-02-01T03:43:15+00:00\"}],\"target\":\"Other\"},{\"phish_id\":\"8022475\",\"url\":\"http:\\/\\/claim.forbes.exchange\",\"phish_detail_url\":\"http:\\/\\/www.phishtank.com\\/phish_detail.php?phish_id=8022475\",\"submission_time\":\"2023-02-01T03:10:12+00:00\",\"verified\":\"yes\",\"verification_time\":\"2023-02-01T03:42:18+00:00\",\"online\":\"yes\",\"details\":[{\"ip_address\":\"172.67.143.242\",\"cidr_block\":\"172.67.128.0\\/20\",\"announcing_network\":\"13335\",\"rir\":\"arin\",\"country\":\"US\",\"detail_time\":\"2023-02-01T03:43:15+00:00\"}],\"target\":\"Other\"}]"
   ]
  },
  {
   "cell_type": "code",
   "execution_count": null,
   "metadata": {},
   "outputs": [],
   "source": [
    "phishtank_urls = [dictionary['url'].replace(\"\\\\\", \"\") for dictionary in given]"
   ]
  }
 ],
 "metadata": {
  "kernelspec": {
   "display_name": "Python 3",
   "language": "python",
   "name": "python3"
  },
  "language_info": {
   "codemirror_mode": {
    "name": "ipython",
    "version": 3
   },
   "file_extension": ".py",
   "mimetype": "text/x-python",
   "name": "python",
   "nbconvert_exporter": "python",
   "pygments_lexer": "ipython3",
   "version": "3.10.4"
  },
  "orig_nbformat": 4,
  "vscode": {
   "interpreter": {
    "hash": "d5061e2ebcf242305dcdb45d871ef5cd4ba433365f314bc2418d41c77ce076e8"
   }
  }
 },
 "nbformat": 4,
 "nbformat_minor": 2
}
