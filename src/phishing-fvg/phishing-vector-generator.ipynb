{
 "cells": [
  {
   "attachments": {},
   "cell_type": "markdown",
   "metadata": {},
   "source": [
    "### **PHISHING VECTOR GENERATOR** 🐟"
   ]
  },
  {
   "cell_type": "code",
   "execution_count": 138,
   "metadata": {},
   "outputs": [],
   "source": [
    "import pandas as pd\n",
    "import numpy as np\n",
    "import json\n",
    "from copy import deepcopy\n",
    "import os\n",
    "import time\n",
    "import requests\n",
    "import re\n",
    "from user_browsing import user_browsing\n",
    "from xml.etree import ElementTree as ET\n",
    "from urllib.parse import urlparse\n",
    "from os import path"
   ]
  },
  {
   "cell_type": "code",
   "execution_count": 139,
   "metadata": {},
   "outputs": [],
   "source": [
    "class PHISH_FVG:\n",
    "\n",
    "    def __init__(self, url, fichero = 'html_dump'):\n",
    "\n",
    "        self.url = url\n",
    "        self.base, self.path = self.process_url(self.url)\n",
    "        self.fv = np.array([ -1 for i in range(19)])\n",
    "        self.html = ''\n",
    "        self.fichero = fichero\n",
    "\n",
    "        self.user = user_browsing()\n",
    "        self.user.set_standard_header(self.base)\n",
    "\n",
    "\n",
    "    def process_url(self, url):\n",
    "\n",
    "        parsed = urlparse(url)\n",
    "        base = parsed.netloc\n",
    "        return base, base + '/'.join(path.split('/')[:-1])\n",
    "\n",
    "\n",
    "    def get_source_code(self):\n",
    "\n",
    "        response = requests.get(self.url) #, headers=self.user.header) #proxies=user.proxies, cookies=user.cookies)\n",
    "\n",
    "        if response.status_code != 400:\n",
    "            with open(self.fichero, 'wb') as f:\n",
    "                f.write(response.content)\n",
    "                f.close()\n",
    "\n",
    "        self.html = response.content.decode(\"utf-8\")\n",
    "\n",
    "    \n",
    "    def url_validator(self, url):\n",
    "\n",
    "        parsed = urlparse(url)\n",
    "        return parsed.netloc != ''\n",
    "\n",
    "\n",
    "    def set_f9(self):\n",
    "\n",
    "        form_pattern = '(?:<form)(.*?)(?:<\\\\/form>)'\n",
    "        form_found = re.findall(form_pattern, self.html)\n",
    "\n",
    "        if len(form_found) > 0:\n",
    "\n",
    "            action_pattern = '(?:action=\\\")(.*?)(?:\\\")'\n",
    "            action_content = re.findall(action_pattern, form_found[0])[0]\n",
    "            print(action_content)\n",
    "\n",
    "\n",
    "            if (len(action_content) <=1) or (len(re.findall(r'javascript:void\\(0\\)', action_content)) > 0):\n",
    "                self.fv[8] = 1\n",
    "\n",
    "            elif len(re.findall(r'^(.*\\.php)$', action_content)) > 0 and self.base != self.process_url(action_content)[0]:\n",
    "                self.fv[8] = 1\n",
    "\n",
    "            elif action_content[0] != '/' and self.base != self.process_url(action_content)[0]:\n",
    "                self.fv[8] = 1\n",
    "            \n",
    "            else:\n",
    "                self.fv[8] = 0\n",
    "                \n",
    "        else:\n",
    "            self.fv[8] = 0\n",
    "\n",
    "        \n"
   ]
  },
  {
   "cell_type": "code",
   "execution_count": 142,
   "metadata": {},
   "outputs": [],
   "source": [
    "ph_entity = PHISH_FVG('https://fdeageadfahgeafeahg.azurewebsites.net/renner/inicio/login.php')\n",
    "ph_entity.get_source_code()\n",
    "ph_entity.set_f9()"
   ]
  },
  {
   "cell_type": "code",
   "execution_count": 141,
   "metadata": {},
   "outputs": [
    {
     "data": {
      "text/plain": [
       "['https://ubuvirtual.ubu.es/holsdasdasda.php']"
      ]
     },
     "execution_count": 141,
     "metadata": {},
     "output_type": "execute_result"
    }
   ],
   "source": []
  }
 ],
 "metadata": {
  "kernelspec": {
   "display_name": "Python 3",
   "language": "python",
   "name": "python3"
  },
  "language_info": {
   "codemirror_mode": {
    "name": "ipython",
    "version": 3
   },
   "file_extension": ".py",
   "mimetype": "text/x-python",
   "name": "python",
   "nbconvert_exporter": "python",
   "pygments_lexer": "ipython3",
   "version": "3.10.4"
  },
  "orig_nbformat": 4,
  "vscode": {
   "interpreter": {
    "hash": "d5061e2ebcf242305dcdb45d871ef5cd4ba433365f314bc2418d41c77ce076e8"
   }
  }
 },
 "nbformat": 4,
 "nbformat_minor": 2
}
